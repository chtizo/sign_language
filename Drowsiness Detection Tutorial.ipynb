{
 "cells": [
  {
   "cell_type": "markdown",
   "metadata": {},
   "source": [
    "# 1. Install and Import Dependencies"
   ]
  },
  {
   "cell_type": "code",
   "execution_count": null,
   "metadata": {},
   "outputs": [],
   "source": [
    "!pip install torch==1.8.1+cu111 torchvision==0.9.1+cu111 torchaudio===0.8.1 -f https://download.pytorch.org/whl/lts/1.8/torch_lts.html"
   ]
  },
  {
   "cell_type": "code",
   "execution_count": null,
   "metadata": {},
   "outputs": [],
   "source": [
    "!git clone https://github.com/ultralytics/yolov5"
   ]
  },
  {
   "cell_type": "code",
   "execution_count": null,
   "metadata": {},
   "outputs": [],
   "source": [
    "!cd yolov5 & pip install -r requirements.txt"
   ]
  },
  {
   "cell_type": "code",
   "execution_count": 1,
   "metadata": {},
   "outputs": [],
   "source": [
    "import torch\n",
    "from matplotlib import pyplot as plt\n",
    "import numpy as np\n",
    "import cv2\n",
    "import os\n",
    "from GPUtil import showUtilization as gpu_usage"
   ]
  },
  {
   "cell_type": "code",
   "execution_count": null,
   "metadata": {},
   "outputs": [],
   "source": [
    "!pip install opencv-python-headless<4.3"
   ]
  },
  {
   "cell_type": "markdown",
   "metadata": {},
   "source": [
    "# 2. Load Model"
   ]
  },
  {
   "cell_type": "code",
   "execution_count": 2,
   "metadata": {},
   "outputs": [
    {
     "name": "stderr",
     "output_type": "stream",
     "text": [
      "Using cache found in C:\\Users\\PAVILION/.cache\\torch\\hub\\ultralytics_yolov5_master\n",
      "YOLOv5  2022-2-12 torch 1.10.0+cu113 CUDA:0 (NVIDIA GeForce GTX 1050, 4096MiB)\n",
      "\n",
      "Fusing layers... \n",
      "Model Summary: 213 layers, 7225885 parameters, 0 gradients\n",
      "Adding AutoShape... \n"
     ]
    }
   ],
   "source": [
    "model = torch.hub.load('ultralytics/yolov5', 'yolov5s')"
   ]
  },
  {
   "cell_type": "code",
   "execution_count": 3,
   "metadata": {},
   "outputs": [
    {
     "data": {
      "text/plain": [
       "AutoShape(\n",
       "  (model): DetectMultiBackend(\n",
       "    (model): Model(\n",
       "      (model): Sequential(\n",
       "        (0): Conv(\n",
       "          (conv): Conv2d(3, 32, kernel_size=(6, 6), stride=(2, 2), padding=(2, 2))\n",
       "          (act): SiLU(inplace=True)\n",
       "        )\n",
       "        (1): Conv(\n",
       "          (conv): Conv2d(32, 64, kernel_size=(3, 3), stride=(2, 2), padding=(1, 1))\n",
       "          (act): SiLU(inplace=True)\n",
       "        )\n",
       "        (2): C3(\n",
       "          (cv1): Conv(\n",
       "            (conv): Conv2d(64, 32, kernel_size=(1, 1), stride=(1, 1))\n",
       "            (act): SiLU(inplace=True)\n",
       "          )\n",
       "          (cv2): Conv(\n",
       "            (conv): Conv2d(64, 32, kernel_size=(1, 1), stride=(1, 1))\n",
       "            (act): SiLU(inplace=True)\n",
       "          )\n",
       "          (cv3): Conv(\n",
       "            (conv): Conv2d(64, 64, kernel_size=(1, 1), stride=(1, 1))\n",
       "            (act): SiLU(inplace=True)\n",
       "          )\n",
       "          (m): Sequential(\n",
       "            (0): Bottleneck(\n",
       "              (cv1): Conv(\n",
       "                (conv): Conv2d(32, 32, kernel_size=(1, 1), stride=(1, 1))\n",
       "                (act): SiLU(inplace=True)\n",
       "              )\n",
       "              (cv2): Conv(\n",
       "                (conv): Conv2d(32, 32, kernel_size=(3, 3), stride=(1, 1), padding=(1, 1))\n",
       "                (act): SiLU(inplace=True)\n",
       "              )\n",
       "            )\n",
       "          )\n",
       "        )\n",
       "        (3): Conv(\n",
       "          (conv): Conv2d(64, 128, kernel_size=(3, 3), stride=(2, 2), padding=(1, 1))\n",
       "          (act): SiLU(inplace=True)\n",
       "        )\n",
       "        (4): C3(\n",
       "          (cv1): Conv(\n",
       "            (conv): Conv2d(128, 64, kernel_size=(1, 1), stride=(1, 1))\n",
       "            (act): SiLU(inplace=True)\n",
       "          )\n",
       "          (cv2): Conv(\n",
       "            (conv): Conv2d(128, 64, kernel_size=(1, 1), stride=(1, 1))\n",
       "            (act): SiLU(inplace=True)\n",
       "          )\n",
       "          (cv3): Conv(\n",
       "            (conv): Conv2d(128, 128, kernel_size=(1, 1), stride=(1, 1))\n",
       "            (act): SiLU(inplace=True)\n",
       "          )\n",
       "          (m): Sequential(\n",
       "            (0): Bottleneck(\n",
       "              (cv1): Conv(\n",
       "                (conv): Conv2d(64, 64, kernel_size=(1, 1), stride=(1, 1))\n",
       "                (act): SiLU(inplace=True)\n",
       "              )\n",
       "              (cv2): Conv(\n",
       "                (conv): Conv2d(64, 64, kernel_size=(3, 3), stride=(1, 1), padding=(1, 1))\n",
       "                (act): SiLU(inplace=True)\n",
       "              )\n",
       "            )\n",
       "            (1): Bottleneck(\n",
       "              (cv1): Conv(\n",
       "                (conv): Conv2d(64, 64, kernel_size=(1, 1), stride=(1, 1))\n",
       "                (act): SiLU(inplace=True)\n",
       "              )\n",
       "              (cv2): Conv(\n",
       "                (conv): Conv2d(64, 64, kernel_size=(3, 3), stride=(1, 1), padding=(1, 1))\n",
       "                (act): SiLU(inplace=True)\n",
       "              )\n",
       "            )\n",
       "          )\n",
       "        )\n",
       "        (5): Conv(\n",
       "          (conv): Conv2d(128, 256, kernel_size=(3, 3), stride=(2, 2), padding=(1, 1))\n",
       "          (act): SiLU(inplace=True)\n",
       "        )\n",
       "        (6): C3(\n",
       "          (cv1): Conv(\n",
       "            (conv): Conv2d(256, 128, kernel_size=(1, 1), stride=(1, 1))\n",
       "            (act): SiLU(inplace=True)\n",
       "          )\n",
       "          (cv2): Conv(\n",
       "            (conv): Conv2d(256, 128, kernel_size=(1, 1), stride=(1, 1))\n",
       "            (act): SiLU(inplace=True)\n",
       "          )\n",
       "          (cv3): Conv(\n",
       "            (conv): Conv2d(256, 256, kernel_size=(1, 1), stride=(1, 1))\n",
       "            (act): SiLU(inplace=True)\n",
       "          )\n",
       "          (m): Sequential(\n",
       "            (0): Bottleneck(\n",
       "              (cv1): Conv(\n",
       "                (conv): Conv2d(128, 128, kernel_size=(1, 1), stride=(1, 1))\n",
       "                (act): SiLU(inplace=True)\n",
       "              )\n",
       "              (cv2): Conv(\n",
       "                (conv): Conv2d(128, 128, kernel_size=(3, 3), stride=(1, 1), padding=(1, 1))\n",
       "                (act): SiLU(inplace=True)\n",
       "              )\n",
       "            )\n",
       "            (1): Bottleneck(\n",
       "              (cv1): Conv(\n",
       "                (conv): Conv2d(128, 128, kernel_size=(1, 1), stride=(1, 1))\n",
       "                (act): SiLU(inplace=True)\n",
       "              )\n",
       "              (cv2): Conv(\n",
       "                (conv): Conv2d(128, 128, kernel_size=(3, 3), stride=(1, 1), padding=(1, 1))\n",
       "                (act): SiLU(inplace=True)\n",
       "              )\n",
       "            )\n",
       "            (2): Bottleneck(\n",
       "              (cv1): Conv(\n",
       "                (conv): Conv2d(128, 128, kernel_size=(1, 1), stride=(1, 1))\n",
       "                (act): SiLU(inplace=True)\n",
       "              )\n",
       "              (cv2): Conv(\n",
       "                (conv): Conv2d(128, 128, kernel_size=(3, 3), stride=(1, 1), padding=(1, 1))\n",
       "                (act): SiLU(inplace=True)\n",
       "              )\n",
       "            )\n",
       "          )\n",
       "        )\n",
       "        (7): Conv(\n",
       "          (conv): Conv2d(256, 512, kernel_size=(3, 3), stride=(2, 2), padding=(1, 1))\n",
       "          (act): SiLU(inplace=True)\n",
       "        )\n",
       "        (8): C3(\n",
       "          (cv1): Conv(\n",
       "            (conv): Conv2d(512, 256, kernel_size=(1, 1), stride=(1, 1))\n",
       "            (act): SiLU(inplace=True)\n",
       "          )\n",
       "          (cv2): Conv(\n",
       "            (conv): Conv2d(512, 256, kernel_size=(1, 1), stride=(1, 1))\n",
       "            (act): SiLU(inplace=True)\n",
       "          )\n",
       "          (cv3): Conv(\n",
       "            (conv): Conv2d(512, 512, kernel_size=(1, 1), stride=(1, 1))\n",
       "            (act): SiLU(inplace=True)\n",
       "          )\n",
       "          (m): Sequential(\n",
       "            (0): Bottleneck(\n",
       "              (cv1): Conv(\n",
       "                (conv): Conv2d(256, 256, kernel_size=(1, 1), stride=(1, 1))\n",
       "                (act): SiLU(inplace=True)\n",
       "              )\n",
       "              (cv2): Conv(\n",
       "                (conv): Conv2d(256, 256, kernel_size=(3, 3), stride=(1, 1), padding=(1, 1))\n",
       "                (act): SiLU(inplace=True)\n",
       "              )\n",
       "            )\n",
       "          )\n",
       "        )\n",
       "        (9): SPPF(\n",
       "          (cv1): Conv(\n",
       "            (conv): Conv2d(512, 256, kernel_size=(1, 1), stride=(1, 1))\n",
       "            (act): SiLU(inplace=True)\n",
       "          )\n",
       "          (cv2): Conv(\n",
       "            (conv): Conv2d(1024, 512, kernel_size=(1, 1), stride=(1, 1))\n",
       "            (act): SiLU(inplace=True)\n",
       "          )\n",
       "          (m): MaxPool2d(kernel_size=5, stride=1, padding=2, dilation=1, ceil_mode=False)\n",
       "        )\n",
       "        (10): Conv(\n",
       "          (conv): Conv2d(512, 256, kernel_size=(1, 1), stride=(1, 1))\n",
       "          (act): SiLU(inplace=True)\n",
       "        )\n",
       "        (11): Upsample(scale_factor=2.0, mode=nearest)\n",
       "        (12): Concat()\n",
       "        (13): C3(\n",
       "          (cv1): Conv(\n",
       "            (conv): Conv2d(512, 128, kernel_size=(1, 1), stride=(1, 1))\n",
       "            (act): SiLU(inplace=True)\n",
       "          )\n",
       "          (cv2): Conv(\n",
       "            (conv): Conv2d(512, 128, kernel_size=(1, 1), stride=(1, 1))\n",
       "            (act): SiLU(inplace=True)\n",
       "          )\n",
       "          (cv3): Conv(\n",
       "            (conv): Conv2d(256, 256, kernel_size=(1, 1), stride=(1, 1))\n",
       "            (act): SiLU(inplace=True)\n",
       "          )\n",
       "          (m): Sequential(\n",
       "            (0): Bottleneck(\n",
       "              (cv1): Conv(\n",
       "                (conv): Conv2d(128, 128, kernel_size=(1, 1), stride=(1, 1))\n",
       "                (act): SiLU(inplace=True)\n",
       "              )\n",
       "              (cv2): Conv(\n",
       "                (conv): Conv2d(128, 128, kernel_size=(3, 3), stride=(1, 1), padding=(1, 1))\n",
       "                (act): SiLU(inplace=True)\n",
       "              )\n",
       "            )\n",
       "          )\n",
       "        )\n",
       "        (14): Conv(\n",
       "          (conv): Conv2d(256, 128, kernel_size=(1, 1), stride=(1, 1))\n",
       "          (act): SiLU(inplace=True)\n",
       "        )\n",
       "        (15): Upsample(scale_factor=2.0, mode=nearest)\n",
       "        (16): Concat()\n",
       "        (17): C3(\n",
       "          (cv1): Conv(\n",
       "            (conv): Conv2d(256, 64, kernel_size=(1, 1), stride=(1, 1))\n",
       "            (act): SiLU(inplace=True)\n",
       "          )\n",
       "          (cv2): Conv(\n",
       "            (conv): Conv2d(256, 64, kernel_size=(1, 1), stride=(1, 1))\n",
       "            (act): SiLU(inplace=True)\n",
       "          )\n",
       "          (cv3): Conv(\n",
       "            (conv): Conv2d(128, 128, kernel_size=(1, 1), stride=(1, 1))\n",
       "            (act): SiLU(inplace=True)\n",
       "          )\n",
       "          (m): Sequential(\n",
       "            (0): Bottleneck(\n",
       "              (cv1): Conv(\n",
       "                (conv): Conv2d(64, 64, kernel_size=(1, 1), stride=(1, 1))\n",
       "                (act): SiLU(inplace=True)\n",
       "              )\n",
       "              (cv2): Conv(\n",
       "                (conv): Conv2d(64, 64, kernel_size=(3, 3), stride=(1, 1), padding=(1, 1))\n",
       "                (act): SiLU(inplace=True)\n",
       "              )\n",
       "            )\n",
       "          )\n",
       "        )\n",
       "        (18): Conv(\n",
       "          (conv): Conv2d(128, 128, kernel_size=(3, 3), stride=(2, 2), padding=(1, 1))\n",
       "          (act): SiLU(inplace=True)\n",
       "        )\n",
       "        (19): Concat()\n",
       "        (20): C3(\n",
       "          (cv1): Conv(\n",
       "            (conv): Conv2d(256, 128, kernel_size=(1, 1), stride=(1, 1))\n",
       "            (act): SiLU(inplace=True)\n",
       "          )\n",
       "          (cv2): Conv(\n",
       "            (conv): Conv2d(256, 128, kernel_size=(1, 1), stride=(1, 1))\n",
       "            (act): SiLU(inplace=True)\n",
       "          )\n",
       "          (cv3): Conv(\n",
       "            (conv): Conv2d(256, 256, kernel_size=(1, 1), stride=(1, 1))\n",
       "            (act): SiLU(inplace=True)\n",
       "          )\n",
       "          (m): Sequential(\n",
       "            (0): Bottleneck(\n",
       "              (cv1): Conv(\n",
       "                (conv): Conv2d(128, 128, kernel_size=(1, 1), stride=(1, 1))\n",
       "                (act): SiLU(inplace=True)\n",
       "              )\n",
       "              (cv2): Conv(\n",
       "                (conv): Conv2d(128, 128, kernel_size=(3, 3), stride=(1, 1), padding=(1, 1))\n",
       "                (act): SiLU(inplace=True)\n",
       "              )\n",
       "            )\n",
       "          )\n",
       "        )\n",
       "        (21): Conv(\n",
       "          (conv): Conv2d(256, 256, kernel_size=(3, 3), stride=(2, 2), padding=(1, 1))\n",
       "          (act): SiLU(inplace=True)\n",
       "        )\n",
       "        (22): Concat()\n",
       "        (23): C3(\n",
       "          (cv1): Conv(\n",
       "            (conv): Conv2d(512, 256, kernel_size=(1, 1), stride=(1, 1))\n",
       "            (act): SiLU(inplace=True)\n",
       "          )\n",
       "          (cv2): Conv(\n",
       "            (conv): Conv2d(512, 256, kernel_size=(1, 1), stride=(1, 1))\n",
       "            (act): SiLU(inplace=True)\n",
       "          )\n",
       "          (cv3): Conv(\n",
       "            (conv): Conv2d(512, 512, kernel_size=(1, 1), stride=(1, 1))\n",
       "            (act): SiLU(inplace=True)\n",
       "          )\n",
       "          (m): Sequential(\n",
       "            (0): Bottleneck(\n",
       "              (cv1): Conv(\n",
       "                (conv): Conv2d(256, 256, kernel_size=(1, 1), stride=(1, 1))\n",
       "                (act): SiLU(inplace=True)\n",
       "              )\n",
       "              (cv2): Conv(\n",
       "                (conv): Conv2d(256, 256, kernel_size=(3, 3), stride=(1, 1), padding=(1, 1))\n",
       "                (act): SiLU(inplace=True)\n",
       "              )\n",
       "            )\n",
       "          )\n",
       "        )\n",
       "        (24): Detect(\n",
       "          (m): ModuleList(\n",
       "            (0): Conv2d(128, 255, kernel_size=(1, 1), stride=(1, 1))\n",
       "            (1): Conv2d(256, 255, kernel_size=(1, 1), stride=(1, 1))\n",
       "            (2): Conv2d(512, 255, kernel_size=(1, 1), stride=(1, 1))\n",
       "          )\n",
       "        )\n",
       "      )\n",
       "    )\n",
       "  )\n",
       ")"
      ]
     },
     "execution_count": 3,
     "metadata": {},
     "output_type": "execute_result"
    }
   ],
   "source": [
    "model"
   ]
  },
  {
   "cell_type": "markdown",
   "metadata": {},
   "source": [
    "# 3. Make Detections with Images"
   ]
  },
  {
   "cell_type": "code",
   "execution_count": 4,
   "metadata": {},
   "outputs": [],
   "source": [
    "img = 'https://raw.githubusercontent.com/ultralytics/yolov5/master/data/images/zidane.jpg'\n"
   ]
  },
  {
   "cell_type": "code",
   "execution_count": 14,
   "metadata": {},
   "outputs": [
    {
     "name": "stdout",
     "output_type": "stream",
     "text": [
      "C:\\Users\\PAVILION\\AppData\\Local\\Programs\\Python\\Python37\\Drowsiness_detect\\yolov5\n"
     ]
    }
   ],
   "source": [
    "#results = model(img)\n",
    "#results.print()\n",
    "%cd yolov5\n",
    "#!python 'yolov5/detect.py' --weights yolov5s.pt --img 640 --conf 0.25 --source 'data/images/zidane.jpg'\n"
   ]
  },
  {
   "cell_type": "code",
   "execution_count": 6,
   "metadata": {},
   "outputs": [
    {
     "data": {
      "text/plain": [
       "'C:\\\\Users\\\\PAVILION\\\\AppData\\\\Local\\\\Programs\\\\Python\\\\Python37\\\\Drowsiness_detect'"
      ]
     },
     "execution_count": 6,
     "metadata": {},
     "output_type": "execute_result"
    }
   ],
   "source": [
    "os.getcwd()"
   ]
  },
  {
   "cell_type": "code",
   "execution_count": 20,
   "metadata": {},
   "outputs": [
    {
     "name": "stderr",
     "output_type": "stream",
     "text": [
      "'pwd' is not recognized as an internal or external command,\n",
      "operable program or batch file.\n"
     ]
    }
   ],
   "source": [
    "!pwd"
   ]
  },
  {
   "cell_type": "code",
   "execution_count": 25,
   "metadata": {},
   "outputs": [
    {
     "name": "stdout",
     "output_type": "stream",
     "text": [
      "detected object name is  tie\n",
      "score is  tensor(0.52546, device='cuda:0')\n",
      "detected object name is  person\n",
      "score is  tensor(0.57235, device='cuda:0')\n",
      "detected object name is  person\n",
      "score is  tensor(0.87597, device='cuda:0')\n"
     ]
    },
    {
     "name": "stderr",
     "output_type": "stream",
     "text": [
      "\u001b[34m\u001b[1mdetect: \u001b[0mweights=['yolov5s.pt'], source=data/images/zidane.jpg, data=data\\coco128.yaml, imgsz=[640, 640], conf_thres=0.25, iou_thres=0.45, max_det=1000, device=, view_img=False, save_txt=False, save_conf=False, save_crop=False, nosave=False, classes=None, agnostic_nms=False, augment=False, visualize=False, update=False, project=runs\\detect, name=exp, exist_ok=False, line_thickness=3, hide_labels=False, hide_conf=False, half=False, dnn=False\n",
      "YOLOv5  2022-1-28 torch 1.10.0+cu113 CUDA:0 (NVIDIA GeForce GTX 1050, 4096MiB)\n",
      "\n",
      "Fusing layers... \n",
      "Model Summary: 213 layers, 7225885 parameters, 0 gradients\n",
      "image 1/1 C:\\Users\\PAVILION\\AppData\\Local\\Programs\\Python\\Python37\\Drowsiness_detect\\yolov5\\data\\images\\zidane.jpg: 384x640 2 persons, 1 tie, Done. (0.020s)\n",
      "Speed: 4.0ms pre-process, 20.1ms inference, 54.2ms NMS per image at shape (1, 3, 640, 640)\n",
      "Results saved to \u001b[1mruns\\detect\\exp3\u001b[0m\n"
     ]
    }
   ],
   "source": [
    "!python \"detect.py\" --weights yolov5s.pt --img 640 --conf 0.25 --source \"data/images/zidane.jpg\""
   ]
  },
  {
   "cell_type": "code",
   "execution_count": 6,
   "metadata": {},
   "outputs": [
    {
     "data": {
      "image/png": "[encoded data removed]",
      "text/plain": [
       "<Figure size 432x288 with 1 Axes>"
      ]
     },
     "metadata": {
      "needs_background": "light"
     },
     "output_type": "display_data"
    }
   ],
   "source": [
    "%matplotlib inline \n",
    "plt.imshow(np.squeeze(results.render()))\n",
    "plt.show()"
   ]
  },
  {
   "cell_type": "code",
   "execution_count": 7,
   "metadata": {},
   "outputs": [
    {
     "data": {
      "text/plain": [
       "[array([[[72, 48, 38],\n",
       "         [74, 50, 40],\n",
       "         [73, 51, 40],\n",
       "         ...,\n",
       "         [56, 21, 25],\n",
       "         [55, 19, 21],\n",
       "         [51, 15, 17]],\n",
       " \n",
       "        [[71, 47, 37],\n",
       "         [71, 47, 37],\n",
       "         [70, 48, 37],\n",
       "         ...,\n",
       "         [55, 20, 24],\n",
       "         [52, 16, 18],\n",
       "         [47, 11, 13]],\n",
       " \n",
       "        [[75, 51, 41],\n",
       "         [73, 49, 39],\n",
       "         [70, 48, 37],\n",
       "         ...,\n",
       "         [56, 20, 24],\n",
       "         [52, 16, 20],\n",
       "         [48, 12, 16]],\n",
       " \n",
       "        ...,\n",
       " \n",
       "        [[40, 43, 48],\n",
       "         [41, 44, 49],\n",
       "         [40, 43, 48],\n",
       "         ...,\n",
       "         [35, 49, 49],\n",
       "         [35, 49, 49],\n",
       "         [36, 50, 50]],\n",
       " \n",
       "        [[39, 42, 49],\n",
       "         [39, 42, 49],\n",
       "         [39, 42, 49],\n",
       "         ...,\n",
       "         [35, 49, 50],\n",
       "         [35, 49, 50],\n",
       "         [36, 50, 51]],\n",
       " \n",
       "        [[38, 41, 48],\n",
       "         [38, 41, 48],\n",
       "         [38, 41, 48],\n",
       "         ...,\n",
       "         [35, 49, 50],\n",
       "         [35, 49, 50],\n",
       "         [36, 50, 51]]], dtype=uint8)]"
      ]
     },
     "execution_count": 7,
     "metadata": {},
     "output_type": "execute_result"
    }
   ],
   "source": [
    "results.render()"
   ]
  },
  {
   "cell_type": "markdown",
   "metadata": {},
   "source": [
    "# 4. Real Time Detections"
   ]
  },
  {
   "cell_type": "code",
   "execution_count": 8,
   "metadata": {},
   "outputs": [],
   "source": [
    "cap = cv2.VideoCapture(0)\n",
    "while cap.isOpened():\n",
    "    ret, frame = cap.read()\n",
    "    \n",
    "    # Make detections \n",
    "    results = model(frame)\n",
    "    \n",
    "    cv2.imshow('YOLO', np.squeeze(results.render()))\n",
    "    \n",
    "    if cv2.waitKey(10) & 0xFF == ord('q'):\n",
    "        break\n",
    "cap.release()\n",
    "cv2.destroyAllWindows()"
   ]
  },
  {
   "cell_type": "markdown",
   "metadata": {},
   "source": [
    "# 5. Train from scratch"
   ]
  },
  {
   "cell_type": "code",
   "execution_count": 2,
   "metadata": {},
   "outputs": [],
   "source": [
    "import uuid   # Unique identifier\n",
    "import os\n",
    "import time"
   ]
  },
  {
   "cell_type": "code",
   "execution_count": 3,
   "metadata": {},
   "outputs": [],
   "source": [
    "IMAGES_PATH = os.path.join('data', 'images') #/data/images\n",
    "labels = ['Hello','Thank_you','I_Love_You']\n",
    "number_imgs = 40"
   ]
  },
  {
   "cell_type": "code",
   "execution_count": 4,
   "metadata": {},
   "outputs": [
    {
     "name": "stdout",
     "output_type": "stream",
     "text": [
      "Collecting images for Hello\n",
      "Collecting images for Hello, image number 0\n",
      "Collecting images for Hello, image number 1\n",
      "Collecting images for Hello, image number 2\n",
      "Collecting images for Hello, image number 3\n",
      "Collecting images for Hello, image number 4\n",
      "Collecting images for Hello, image number 5\n",
      "Collecting images for Hello, image number 6\n",
      "Collecting images for Hello, image number 7\n",
      "Collecting images for Hello, image number 8\n",
      "Collecting images for Hello, image number 9\n",
      "Collecting images for Hello, image number 10\n",
      "Collecting images for Hello, image number 11\n",
      "Collecting images for Hello, image number 12\n",
      "Collecting images for Hello, image number 13\n",
      "Collecting images for Hello, image number 14\n",
      "Collecting images for Hello, image number 15\n",
      "Collecting images for Hello, image number 16\n",
      "Collecting images for Hello, image number 17\n",
      "Collecting images for Hello, image number 18\n",
      "Collecting images for Hello, image number 19\n",
      "Collecting images for Thank_you\n",
      "Collecting images for Thank_you, image number 0\n",
      "Collecting images for Thank_you, image number 1\n",
      "Collecting images for Thank_you, image number 2\n",
      "Collecting images for Thank_you, image number 3\n",
      "Collecting images for Thank_you, image number 4\n",
      "Collecting images for Thank_you, image number 5\n",
      "Collecting images for Thank_you, image number 6\n",
      "Collecting images for Thank_you, image number 7\n",
      "Collecting images for Thank_you, image number 8\n",
      "Collecting images for Thank_you, image number 9\n",
      "Collecting images for Thank_you, image number 10\n",
      "Collecting images for Thank_you, image number 11\n",
      "Collecting images for Thank_you, image number 12\n",
      "Collecting images for Thank_you, image number 13\n",
      "Collecting images for Thank_you, image number 14\n",
      "Collecting images for Thank_you, image number 15\n",
      "Collecting images for Thank_you, image number 16\n",
      "Collecting images for Thank_you, image number 17\n",
      "Collecting images for Thank_you, image number 18\n",
      "Collecting images for Thank_you, image number 19\n",
      "Collecting images for I_Love_You\n",
      "Collecting images for I_Love_You, image number 0\n",
      "Collecting images for I_Love_You, image number 1\n",
      "Collecting images for I_Love_You, image number 2\n",
      "Collecting images for I_Love_You, image number 3\n",
      "Collecting images for I_Love_You, image number 4\n",
      "Collecting images for I_Love_You, image number 5\n",
      "Collecting images for I_Love_You, image number 6\n",
      "Collecting images for I_Love_You, image number 7\n",
      "Collecting images for I_Love_You, image number 8\n",
      "Collecting images for I_Love_You, image number 9\n",
      "Collecting images for I_Love_You, image number 10\n",
      "Collecting images for I_Love_You, image number 11\n",
      "Collecting images for I_Love_You, image number 12\n",
      "Collecting images for I_Love_You, image number 13\n",
      "Collecting images for I_Love_You, image number 14\n",
      "Collecting images for I_Love_You, image number 15\n",
      "Collecting images for I_Love_You, image number 16\n",
      "Collecting images for I_Love_You, image number 17\n",
      "Collecting images for I_Love_You, image number 18\n",
      "Collecting images for I_Love_You, image number 19\n"
     ]
    }
   ],
   "source": [
    "cap = cv2.VideoCapture(0)\n",
    "# Loop through labels\n",
    "for label in labels:\n",
    "    print('Collecting images for {}'.format(label))\n",
    "    time.sleep(5)\n",
    "    \n",
    "    # Loop through image range\n",
    "    for img_num in range(number_imgs):\n",
    "        print('Collecting images for {}, image number {}'.format(label, img_num))\n",
    "        \n",
    "        # Webcam feed\n",
    "        ret, frame = cap.read()\n",
    "        \n",
    "        # Naming out image path\n",
    "        imgname = os.path.join(IMAGES_PATH, label+'.'+str(uuid.uuid1())+'.jpg')\n",
    "        cv2.putText(frame, '{}'.format(img_num), (50,200), cv2.FONT_HERSHEY_SIMPLEX, 2, (0, 0, 255), 2, cv2.LINE_AA)\n",
    "        # Writes out image to file \n",
    "        cv2.imwrite(imgname, frame)\n",
    "        \n",
    "        # Render to the screen\n",
    "        cv2.imshow('Image Collection', frame)\n",
    "        \n",
    "        # 2 second delay between capturesq\n",
    "        time.sleep(2)\n",
    "        \n",
    "        if cv2.waitKey(10) & 0xFF == ord('q'):\n",
    "            break\n",
    "cap.release()\n",
    "cv2.destroyAllWindows()"
   ]
  },
  {
   "cell_type": "code",
   "execution_count": 5,
   "metadata": {},
   "outputs": [
    {
     "name": "stdout",
     "output_type": "stream",
     "text": [
      "data\\images\\Hello.e104eab8-9f0a-11ec-a3fe-5c879c719f9a.jpg\n"
     ]
    }
   ],
   "source": [
    "print(os.path.join(IMAGES_PATH, labels[0]+'.'+str(uuid.uuid1())+'.jpg'))"
   ]
  },
  {
   "cell_type": "code",
   "execution_count": 4,
   "metadata": {},
   "outputs": [
    {
     "name": "stdout",
     "output_type": "stream",
     "text": [
      "Collecting images for Hello\n",
      "Collecting images for Hello, image number 0\n",
      "data\\images\\Hello.10086a74-a472-11ec-ae06-5c879c719f9a.jpg\n",
      "Collecting images for Hello, image number 1\n",
      "data\\images\\Hello.10086a75-a472-11ec-90df-5c879c719f9a.jpg\n",
      "Collecting images for Hello, image number 2\n",
      "data\\images\\Hello.10086a76-a472-11ec-88cb-5c879c719f9a.jpg\n",
      "Collecting images for Hello, image number 3\n",
      "data\\images\\Hello.10086a77-a472-11ec-bf35-5c879c719f9a.jpg\n",
      "Collecting images for Hello, image number 4\n",
      "data\\images\\Hello.10086a78-a472-11ec-a9bb-5c879c719f9a.jpg\n",
      "Collecting images for Hello, image number 5\n",
      "data\\images\\Hello.10086a79-a472-11ec-afa3-5c879c719f9a.jpg\n",
      "Collecting images for Hello, image number 6\n",
      "data\\images\\Hello.1008918c-a472-11ec-b8e1-5c879c719f9a.jpg\n",
      "Collecting images for Hello, image number 7\n",
      "data\\images\\Hello.1008918d-a472-11ec-8948-5c879c719f9a.jpg\n",
      "Collecting images for Hello, image number 8\n",
      "data\\images\\Hello.1008918e-a472-11ec-99bd-5c879c719f9a.jpg\n",
      "Collecting images for Hello, image number 9\n",
      "data\\images\\Hello.1008918f-a472-11ec-a46f-5c879c719f9a.jpg\n",
      "Collecting images for Hello, image number 10\n",
      "data\\images\\Hello.10089190-a472-11ec-bc85-5c879c719f9a.jpg\n",
      "Collecting images for Hello, image number 11\n",
      "data\\images\\Hello.10089191-a472-11ec-96d3-5c879c719f9a.jpg\n",
      "Collecting images for Hello, image number 12\n",
      "data\\images\\Hello.10089192-a472-11ec-9205-5c879c719f9a.jpg\n",
      "Collecting images for Hello, image number 13\n",
      "data\\images\\Hello.10089193-a472-11ec-8e34-5c879c719f9a.jpg\n",
      "Collecting images for Hello, image number 14\n",
      "data\\images\\Hello.10089194-a472-11ec-bda3-5c879c719f9a.jpg\n",
      "Collecting images for Hello, image number 15\n",
      "data\\images\\Hello.10089195-a472-11ec-a6ba-5c879c719f9a.jpg\n",
      "Collecting images for Hello, image number 16\n",
      "data\\images\\Hello.10089196-a472-11ec-b9c6-5c879c719f9a.jpg\n",
      "Collecting images for Hello, image number 17\n",
      "data\\images\\Hello.10089197-a472-11ec-a5ba-5c879c719f9a.jpg\n",
      "Collecting images for Hello, image number 18\n",
      "data\\images\\Hello.1008b892-a472-11ec-801c-5c879c719f9a.jpg\n",
      "Collecting images for Hello, image number 19\n",
      "data\\images\\Hello.1008b893-a472-11ec-ae59-5c879c719f9a.jpg\n",
      "Collecting images for Hello, image number 20\n",
      "data\\images\\Hello.1008b894-a472-11ec-a512-5c879c719f9a.jpg\n",
      "Collecting images for Hello, image number 21\n",
      "data\\images\\Hello.1008b895-a472-11ec-8605-5c879c719f9a.jpg\n",
      "Collecting images for Hello, image number 22\n",
      "data\\images\\Hello.1008dfa8-a472-11ec-af1d-5c879c719f9a.jpg\n",
      "Collecting images for Hello, image number 23\n",
      "data\\images\\Hello.1008dfa9-a472-11ec-9ac7-5c879c719f9a.jpg\n",
      "Collecting images for Hello, image number 24\n",
      "data\\images\\Hello.1008dfaa-a472-11ec-b516-5c879c719f9a.jpg\n",
      "Collecting images for Hello, image number 25\n",
      "data\\images\\Hello.1008dfab-a472-11ec-80c5-5c879c719f9a.jpg\n",
      "Collecting images for Hello, image number 26\n",
      "data\\images\\Hello.1008dfac-a472-11ec-8a1c-5c879c719f9a.jpg\n",
      "Collecting images for Hello, image number 27\n",
      "data\\images\\Hello.1008dfad-a472-11ec-a698-5c879c719f9a.jpg\n",
      "Collecting images for Hello, image number 28\n",
      "data\\images\\Hello.1008dfae-a472-11ec-b449-5c879c719f9a.jpg\n",
      "Collecting images for Hello, image number 29\n",
      "data\\images\\Hello.1008dfaf-a472-11ec-9ff3-5c879c719f9a.jpg\n",
      "Collecting images for Hello, image number 30\n",
      "data\\images\\Hello.100907c2-a472-11ec-9605-5c879c719f9a.jpg\n",
      "Collecting images for Hello, image number 31\n",
      "data\\images\\Hello.100907c3-a472-11ec-a27a-5c879c719f9a.jpg\n",
      "Collecting images for Hello, image number 32\n",
      "data\\images\\Hello.100907c4-a472-11ec-ba36-5c879c719f9a.jpg\n",
      "Collecting images for Hello, image number 33\n",
      "data\\images\\Hello.100907c5-a472-11ec-97a7-5c879c719f9a.jpg\n",
      "Collecting images for Hello, image number 34\n",
      "data\\images\\Hello.100907c6-a472-11ec-9c62-5c879c719f9a.jpg\n",
      "Collecting images for Hello, image number 35\n",
      "data\\images\\Hello.10097d00-a472-11ec-815d-5c879c719f9a.jpg\n",
      "Collecting images for Hello, image number 36\n",
      "data\\images\\Hello.10097d01-a472-11ec-8ab0-5c879c719f9a.jpg\n",
      "Collecting images for Hello, image number 37\n",
      "data\\images\\Hello.10097d02-a472-11ec-ba21-5c879c719f9a.jpg\n",
      "Collecting images for Hello, image number 38\n",
      "data\\images\\Hello.10097d03-a472-11ec-9cbd-5c879c719f9a.jpg\n",
      "Collecting images for Hello, image number 39\n",
      "data\\images\\Hello.10097d04-a472-11ec-9c1d-5c879c719f9a.jpg\n",
      "Collecting images for Thank_you\n",
      "Collecting images for Thank_you, image number 0\n",
      "data\\images\\Thank_you.10097d05-a472-11ec-81ef-5c879c719f9a.jpg\n",
      "Collecting images for Thank_you, image number 1\n",
      "data\\images\\Thank_you.10097d06-a472-11ec-81ea-5c879c719f9a.jpg\n",
      "Collecting images for Thank_you, image number 2\n",
      "data\\images\\Thank_you.1009a2f4-a472-11ec-9141-5c879c719f9a.jpg\n",
      "Collecting images for Thank_you, image number 3\n",
      "data\\images\\Thank_you.1009a2f5-a472-11ec-b2f0-5c879c719f9a.jpg\n",
      "Collecting images for Thank_you, image number 4\n",
      "data\\images\\Thank_you.1009cb1a-a472-11ec-9b11-5c879c719f9a.jpg\n",
      "Collecting images for Thank_you, image number 5\n",
      "data\\images\\Thank_you.1009cb1b-a472-11ec-9f41-5c879c719f9a.jpg\n",
      "Collecting images for Thank_you, image number 6\n",
      "data\\images\\Thank_you.1009cb1c-a472-11ec-80bb-5c879c719f9a.jpg\n",
      "Collecting images for Thank_you, image number 7\n",
      "data\\images\\Thank_you.1009cb1d-a472-11ec-9f3e-5c879c719f9a.jpg\n",
      "Collecting images for Thank_you, image number 8\n",
      "data\\images\\Thank_you.1009cb1e-a472-11ec-9fe6-5c879c719f9a.jpg\n",
      "Collecting images for Thank_you, image number 9\n",
      "data\\images\\Thank_you.1009cb1f-a472-11ec-b539-5c879c719f9a.jpg\n",
      "Collecting images for Thank_you, image number 10\n",
      "data\\images\\Thank_you.1009cb20-a472-11ec-ba23-5c879c719f9a.jpg\n",
      "Collecting images for Thank_you, image number 11\n",
      "data\\images\\Thank_you.1009cb21-a472-11ec-b5fb-5c879c719f9a.jpg\n",
      "Collecting images for Thank_you, image number 12\n",
      "data\\images\\Thank_you.1009f280-a472-11ec-b8ef-5c879c719f9a.jpg\n",
      "Collecting images for Thank_you, image number 13\n",
      "data\\images\\Thank_you.1009f281-a472-11ec-9e0d-5c879c719f9a.jpg\n",
      "Collecting images for Thank_you, image number 14\n",
      "data\\images\\Thank_you.1009f282-a472-11ec-8a65-5c879c719f9a.jpg\n",
      "Collecting images for Thank_you, image number 15\n",
      "data\\images\\Thank_you.1009f283-a472-11ec-9b4a-5c879c719f9a.jpg\n",
      "Collecting images for Thank_you, image number 16\n",
      "data\\images\\Thank_you.1009f284-a472-11ec-b158-5c879c719f9a.jpg\n",
      "Collecting images for Thank_you, image number 17\n",
      "data\\images\\Thank_you.1009f285-a472-11ec-a342-5c879c719f9a.jpg\n",
      "Collecting images for Thank_you, image number 18\n",
      "data\\images\\Thank_you.1009f286-a472-11ec-9350-5c879c719f9a.jpg\n",
      "Collecting images for Thank_you, image number 19\n",
      "data\\images\\Thank_you.1009f287-a472-11ec-bac8-5c879c719f9a.jpg\n",
      "Collecting images for Thank_you, image number 20\n",
      "data\\images\\Thank_you.1009f288-a472-11ec-afd1-5c879c719f9a.jpg\n",
      "Collecting images for Thank_you, image number 21\n",
      "data\\images\\Thank_you.1009f289-a472-11ec-b1bb-5c879c719f9a.jpg\n",
      "Collecting images for Thank_you, image number 22\n",
      "data\\images\\Thank_you.1009f28a-a472-11ec-b1af-5c879c719f9a.jpg\n",
      "Collecting images for Thank_you, image number 23\n",
      "data\\images\\Thank_you.1009f28b-a472-11ec-9d19-5c879c719f9a.jpg\n",
      "Collecting images for Thank_you, image number 24\n",
      "data\\images\\Thank_you.1009f28c-a472-11ec-941e-5c879c719f9a.jpg\n",
      "Collecting images for Thank_you, image number 25\n",
      "data\\images\\Thank_you.1009f28d-a472-11ec-acb5-5c879c719f9a.jpg\n",
      "Collecting images for Thank_you, image number 26\n",
      "data\\images\\Thank_you.1009f28e-a472-11ec-99d2-5c879c719f9a.jpg\n",
      "Collecting images for Thank_you, image number 27\n",
      "data\\images\\Thank_you.1009f28f-a472-11ec-b523-5c879c719f9a.jpg\n",
      "Collecting images for Thank_you, image number 28\n",
      "data\\images\\Thank_you.1009f290-a472-11ec-b72e-5c879c719f9a.jpg\n",
      "Collecting images for Thank_you, image number 29\n",
      "data\\images\\Thank_you.1009f291-a472-11ec-948b-5c879c719f9a.jpg\n",
      "Collecting images for Thank_you, image number 30\n",
      "data\\images\\Thank_you.1009f292-a472-11ec-8782-5c879c719f9a.jpg\n",
      "Collecting images for Thank_you, image number 31\n",
      "data\\images\\Thank_you.1009f293-a472-11ec-9ce3-5c879c719f9a.jpg\n",
      "Collecting images for Thank_you, image number 32\n",
      "data\\images\\Thank_you.1009f294-a472-11ec-9545-5c879c719f9a.jpg\n",
      "Collecting images for Thank_you, image number 33\n",
      "data\\images\\Thank_you.100a1930-a472-11ec-8f45-5c879c719f9a.jpg\n",
      "Collecting images for Thank_you, image number 34\n",
      "data\\images\\Thank_you.100a1931-a472-11ec-9f40-5c879c719f9a.jpg\n",
      "Collecting images for Thank_you, image number 35\n",
      "data\\images\\Thank_you.100a1932-a472-11ec-ac77-5c879c719f9a.jpg\n",
      "Collecting images for Thank_you, image number 36\n",
      "data\\images\\Thank_you.100a1933-a472-11ec-af82-5c879c719f9a.jpg\n",
      "Collecting images for Thank_you, image number 37\n",
      "data\\images\\Thank_you.100a1934-a472-11ec-bdda-5c879c719f9a.jpg\n",
      "Collecting images for Thank_you, image number 38\n",
      "data\\images\\Thank_you.100a1935-a472-11ec-8a8b-5c879c719f9a.jpg\n",
      "Collecting images for Thank_you, image number 39\n",
      "data\\images\\Thank_you.100a8e6c-a472-11ec-9aed-5c879c719f9a.jpg\n",
      "Collecting images for I_Love_You\n",
      "Collecting images for I_Love_You, image number 0\n",
      "data\\images\\I_Love_You.100a8e6d-a472-11ec-ae78-5c879c719f9a.jpg\n",
      "Collecting images for I_Love_You, image number 1\n",
      "data\\images\\I_Love_You.100a8e6e-a472-11ec-9711-5c879c719f9a.jpg\n",
      "Collecting images for I_Love_You, image number 2\n",
      "data\\images\\I_Love_You.100a8e6f-a472-11ec-b0ca-5c879c719f9a.jpg\n",
      "Collecting images for I_Love_You, image number 3\n",
      "data\\images\\I_Love_You.100a8e70-a472-11ec-948d-5c879c719f9a.jpg\n",
      "Collecting images for I_Love_You, image number 4\n",
      "data\\images\\I_Love_You.100a8e71-a472-11ec-8b05-5c879c719f9a.jpg\n",
      "Collecting images for I_Love_You, image number 5\n",
      "data\\images\\I_Love_You.100a8e72-a472-11ec-9eeb-5c879c719f9a.jpg\n",
      "Collecting images for I_Love_You, image number 6\n",
      "data\\images\\I_Love_You.100a8e73-a472-11ec-a542-5c879c719f9a.jpg\n",
      "Collecting images for I_Love_You, image number 7\n",
      "data\\images\\I_Love_You.100a8e74-a472-11ec-9183-5c879c719f9a.jpg\n",
      "Collecting images for I_Love_You, image number 8\n",
      "data\\images\\I_Love_You.100a8e75-a472-11ec-a825-5c879c719f9a.jpg\n",
      "Collecting images for I_Love_You, image number 9\n",
      "data\\images\\I_Love_You.100a8e76-a472-11ec-9614-5c879c719f9a.jpg\n",
      "Collecting images for I_Love_You, image number 10\n",
      "data\\images\\I_Love_You.100a8e77-a472-11ec-bb16-5c879c719f9a.jpg\n",
      "Collecting images for I_Love_You, image number 11\n",
      "data\\images\\I_Love_You.100a8e78-a472-11ec-bc98-5c879c719f9a.jpg\n",
      "Collecting images for I_Love_You, image number 12\n",
      "data\\images\\I_Love_You.100a8e79-a472-11ec-80ea-5c879c719f9a.jpg\n",
      "Collecting images for I_Love_You, image number 13\n",
      "data\\images\\I_Love_You.100a8e7a-a472-11ec-a629-5c879c719f9a.jpg\n",
      "Collecting images for I_Love_You, image number 14\n",
      "data\\images\\I_Love_You.100a8e7b-a472-11ec-9cc7-5c879c719f9a.jpg\n",
      "Collecting images for I_Love_You, image number 15\n",
      "data\\images\\I_Love_You.100a8e7c-a472-11ec-82bb-5c879c719f9a.jpg\n",
      "Collecting images for I_Love_You, image number 16\n",
      "data\\images\\I_Love_You.100a8e7d-a472-11ec-8066-5c879c719f9a.jpg\n",
      "Collecting images for I_Love_You, image number 17\n",
      "data\\images\\I_Love_You.100a8e7e-a472-11ec-a5c4-5c879c719f9a.jpg\n",
      "Collecting images for I_Love_You, image number 18\n",
      "data\\images\\I_Love_You.100b29a6-a472-11ec-9368-5c879c719f9a.jpg\n",
      "Collecting images for I_Love_You, image number 19\n",
      "data\\images\\I_Love_You.100b29a7-a472-11ec-ad1b-5c879c719f9a.jpg\n",
      "Collecting images for I_Love_You, image number 20\n",
      "data\\images\\I_Love_You.100b29a8-a472-11ec-8d01-5c879c719f9a.jpg\n",
      "Collecting images for I_Love_You, image number 21\n",
      "data\\images\\I_Love_You.100b29a9-a472-11ec-b1a4-5c879c719f9a.jpg\n",
      "Collecting images for I_Love_You, image number 22\n",
      "data\\images\\I_Love_You.100b51f8-a472-11ec-869e-5c879c719f9a.jpg\n",
      "Collecting images for I_Love_You, image number 23\n",
      "data\\images\\I_Love_You.100b51f9-a472-11ec-b382-5c879c719f9a.jpg\n",
      "Collecting images for I_Love_You, image number 24\n",
      "data\\images\\I_Love_You.100b51fa-a472-11ec-95db-5c879c719f9a.jpg\n",
      "Collecting images for I_Love_You, image number 25\n",
      "data\\images\\I_Love_You.100b51fb-a472-11ec-9c7a-5c879c719f9a.jpg\n",
      "Collecting images for I_Love_You, image number 26\n",
      "data\\images\\I_Love_You.100b51fc-a472-11ec-b9a3-5c879c719f9a.jpg\n",
      "Collecting images for I_Love_You, image number 27\n",
      "data\\images\\I_Love_You.100b51fd-a472-11ec-88c1-5c879c719f9a.jpg\n",
      "Collecting images for I_Love_You, image number 28\n",
      "data\\images\\I_Love_You.100b51fe-a472-11ec-8eeb-5c879c719f9a.jpg\n",
      "Collecting images for I_Love_You, image number 29\n",
      "data\\images\\I_Love_You.100b51ff-a472-11ec-87f5-5c879c719f9a.jpg\n",
      "Collecting images for I_Love_You, image number 30\n",
      "data\\images\\I_Love_You.100b5200-a472-11ec-8174-5c879c719f9a.jpg\n",
      "Collecting images for I_Love_You, image number 31\n",
      "data\\images\\I_Love_You.100b5201-a472-11ec-a065-5c879c719f9a.jpg\n",
      "Collecting images for I_Love_You, image number 32\n",
      "data\\images\\I_Love_You.100b5202-a472-11ec-858f-5c879c719f9a.jpg\n",
      "Collecting images for I_Love_You, image number 33\n",
      "data\\images\\I_Love_You.100b5203-a472-11ec-8d21-5c879c719f9a.jpg\n",
      "Collecting images for I_Love_You, image number 34\n",
      "data\\images\\I_Love_You.100b5204-a472-11ec-8f2f-5c879c719f9a.jpg\n",
      "Collecting images for I_Love_You, image number 35\n",
      "data\\images\\I_Love_You.100b5205-a472-11ec-a511-5c879c719f9a.jpg\n",
      "Collecting images for I_Love_You, image number 36\n",
      "data\\images\\I_Love_You.100b5206-a472-11ec-9ff3-5c879c719f9a.jpg\n",
      "Collecting images for I_Love_You, image number 37\n",
      "data\\images\\I_Love_You.100b5207-a472-11ec-a1ce-5c879c719f9a.jpg\n",
      "Collecting images for I_Love_You, image number 38\n",
      "data\\images\\I_Love_You.100b5208-a472-11ec-9791-5c879c719f9a.jpg\n",
      "Collecting images for I_Love_You, image number 39\n",
      "data\\images\\I_Love_You.100b5209-a472-11ec-9982-5c879c719f9a.jpg\n"
     ]
    }
   ],
   "source": [
    "for label in labels:\n",
    "    print('Collecting images for {}'.format(label))\n",
    "    for img_num in range(number_imgs):\n",
    "        print('Collecting images for {}, image number {}'.format(label, img_num))\n",
    "        imgname = os.path.join(IMAGES_PATH, label+'.'+str(uuid.uuid1())+'.jpg')\n",
    "        print(imgname)   "
   ]
  },
  {
   "cell_type": "code",
   "execution_count": null,
   "metadata": {},
   "outputs": [],
   "source": [
    "!git clone https://github.com/tzutalin/labelImg"
   ]
  },
  {
   "cell_type": "code",
   "execution_count": null,
   "metadata": {
    "scrolled": true
   },
   "outputs": [],
   "source": [
    "!pip install pyqt5 lxml --upgrade //streamlit\n",
    "!cd labelImg && pyrcc5 -o libs/resources.py resources.qrc"
   ]
  },
  {
   "cell_type": "code",
   "execution_count": 7,
   "metadata": {},
   "outputs": [
    {
     "name": "stdout",
     "output_type": "stream",
     "text": [
      "| ID | GPU | MEM |\n",
      "------------------\n",
      "|  0 | 96% | 32% |\n",
      "| ID | GPU | MEM |\n",
      "------------------\n",
      "|  0 | 71% | 32% |\n"
     ]
    }
   ],
   "source": [
    "gpu_usage()\n",
    "torch.cuda.empty_cache()\n",
    "gpu_usage()\n"
   ]
  },
  {
   "cell_type": "code",
   "execution_count": 6,
   "metadata": {},
   "outputs": [
    {
     "name": "stdout",
     "output_type": "stream",
     "text": [
      "^C\n",
      "| ID | GPU  | MEM |\n",
      "-------------------\n",
      "|  0 | 100% | 32% |\n"
     ]
    }
   ],
   "source": [
    "!cd yolov5 && python train.py --img 640 --batch 1 --epochs 500 --data dataset.yml --weights yolov5s.pt --workers 1\n",
    "gpu_usage()"
   ]
  },
  {
   "cell_type": "markdown",
   "metadata": {},
   "source": [
    "# 6. Load Custom Model"
   ]
  },
  {
   "cell_type": "code",
   "execution_count": 5,
   "metadata": {},
   "outputs": [
    {
     "name": "stdout",
     "output_type": "stream",
     "text": [
      "C:\\Users\\PAVILION\\AppData\\Local\\Programs\\Python\\Python37\\Drowsiness_detect\n"
     ]
    }
   ],
   "source": [
    "%cd C:\\Users\\PAVILION\\AppData\\Local\\Programs\\Python\\Python37\\Drowsiness_detect"
   ]
  },
  {
   "cell_type": "code",
   "execution_count": 6,
   "metadata": {},
   "outputs": [
    {
     "name": "stderr",
     "output_type": "stream",
     "text": [
      "Downloading: \"https://github.com/ultralytics/yolov5/archive/master.zip\" to C:\\Users\\PAVILION/.cache\\torch\\hub\\master.zip\n",
      "YOLOv5  2022-3-15 torch 1.10.0+cu113 CUDA:0 (NVIDIA GeForce GTX 1050, 4096MiB)\n",
      "\n",
      "Fusing layers... \n",
      "Model Summary: 213 layers, 7058671 parameters, 0 gradients\n",
      "Adding AutoShape... \n"
     ]
    }
   ],
   "source": [
    "model = torch.hub.load('ultralytics/yolov5', 'custom', path='yolov5/runs/train/exp28/weights/last.pt', force_reload=True)"
   ]
  },
  {
   "cell_type": "code",
   "execution_count": 43,
   "metadata": {},
   "outputs": [],
   "source": [
    "img = os.path.join('test', 'drowsy.jpg') # data/images/awake.1cf8c168-80e6-11ec-9c1c-5c879c719f9a.jpg"
   ]
  },
  {
   "cell_type": "code",
   "execution_count": 44,
   "metadata": {},
   "outputs": [],
   "source": [
    "results = model(img)"
   ]
  },
  {
   "cell_type": "code",
   "execution_count": 45,
   "metadata": {},
   "outputs": [
    {
     "name": "stderr",
     "output_type": "stream",
     "text": [
      "image 1/1: 400x600 (no detections)\n",
      "Speed: 1111.6ms pre-process, 20.0ms inference, 1.0ms NMS per image at shape (1, 3, 448, 640)\n"
     ]
    }
   ],
   "source": [
    "results.print()"
   ]
  },
  {
   "cell_type": "code",
   "execution_count": 14,
   "metadata": {},
   "outputs": [
    {
     "data": {
      "text/plain": [
       "['.ipynb_checkpoints',\n",
       " \"0.11.0'\",\n",
       " \"1.1.4'\",\n",
       " \"1.4.1'\",\n",
       " \"2.23.0'\",\n",
       " \"4.41.0'\",\n",
       " \"5.3.1'\",\n",
       " 'data',\n",
       " 'data_alpha',\n",
       " 'Drowsiness Detection Tutorial.ipynb',\n",
       " 'Drowsiness Detection Tutorial.py',\n",
       " 'labelImg',\n",
       " 'yolov5',\n",
       " 'yolov5s.pt']"
      ]
     },
     "execution_count": 14,
     "metadata": {},
     "output_type": "execute_result"
    }
   ],
   "source": [
    "os.listdir()"
   ]
  },
  {
   "cell_type": "code",
   "execution_count": 8,
   "metadata": {},
   "outputs": [
    {
     "name": "stdout",
     "output_type": "stream",
     "text": [
      "C:\\Users\\PAVILION\\AppData\\Local\\Programs\\Python\\Python37\\Drowsiness_detect\\yolov5\n"
     ]
    }
   ],
   "source": [
    "%cd yolov5"
   ]
  },
  {
   "cell_type": "code",
   "execution_count": 9,
   "metadata": {},
   "outputs": [
    {
     "name": "stdout",
     "output_type": "stream",
     "text": [
      "detected object name is  thankyou\n",
      "score is  tensor(0.53231, device='cuda:0')\n",
      "detected object name is  thankyou"
     ]
    },
    {
     "name": "stderr",
     "output_type": "stream",
     "text": [
      "\u001b[34m\u001b[1mdetect: \u001b[0mweights=['runs/train/exp28/weights/last.pt'], source=0, data=dataset.yml, imgsz=[640, 640], conf_thres=0.25, iou_thres=0.45, max_det=1000, device=, view_img=False, save_txt=False, save_conf=False, save_crop=False, nosave=False, classes=None, agnostic_nms=False, augment=False, visualize=False, update=False, project=runs\\detect, name=exp, exist_ok=False, line_thickness=3, hide_labels=False, hide_conf=False, half=False, dnn=False\n",
      "YOLOv5  2022-1-28 torch 1.10.0+cu113 CUDA:0 (NVIDIA GeForce GTX 1050, 4096MiB)\n",
      "\n",
      "Fusing layers... \n",
      "Model Summary: 213 layers, 7058671 parameters, 0 gradients\n",
      "1/1: 0...  Success (inf frames 640x480 at 30.00 FPS)\n",
      "\n",
      "0: 480x640 Done. (0.983s)\n",
      "0: 480x640 Done. (0.016s)\n",
      "0: 480x640 Done. (0.017s)\n",
      "0: 480x640 Done. (0.017s)\n",
      "0: 480x640 Done. (0.017s)\n",
      "0: 480x640 Done. (0.017s)\n",
      "0: 480x640 Done. (0.017s)\n",
      "0: 480x640 Done. (0.016s)\n",
      "0: 480x640 Done. (0.017s)\n",
      "0: 480x640 Done. (0.017s)\n",
      "0: 480x640 Done. (0.017s)\n",
      "0: 480x640 Done. (0.017s)\n",
      "0: 480x640 Done. (0.017s)\n",
      "0: 480x640 Done. (0.017s)\n",
      "0: 480x640 Done. (0.017s)\n",
      "0: 480x640 Done. (0.017s)\n",
      "0: 480x640 Done. (0.016s)\n",
      "0: 480x640 Done. (0.016s)\n",
      "0: 480x640 Done. (0.017s)\n",
      "0: 480x640 Done. (0.016s)\n",
      "0: 480x640 Done. (0.016s)\n",
      "0: 480x640 Done. (0.016s)\n",
      "0: 480x640 Done. (0.016s)\n",
      "0: 480x640 Done. (0.016s)\n",
      "0: 480x640 Done. (0.017s)"
     ]
    },
    {
     "name": "stdout",
     "output_type": "stream",
     "text": [
      "\n",
      "score is  tensor(0.63181, device='cuda:0')\n",
      "detected object name is  thankyou\n",
      "score is  tensor(0.65317, device='cuda:0')\n",
      "detected object name is  thankyou\n",
      "score is  tensor(0.65568, device='cuda:0')\n",
      "detected object name is  thankyou\n",
      "score is  tensor(0.65568, device='cuda:0')\n",
      "detected object name is  thankyou\n",
      "score is  tensor(0.62777, device='cuda:0')\n",
      "detected object name is  thankyou\n",
      "score is  tensor(0.62777, device='cuda:0')\n",
      "detected object name is  thankyou\n",
      "score is  tensor(0.64492, device='cuda:0')\n",
      "detected object name is  thankyou\n",
      "score is  tensor(0.64492, device='cuda:0')\n",
      "detected object name is  thankyou\n",
      "score is  tensor(0.65141, device='cuda:0')\n",
      "detected object name is  thankyou\n",
      "score is  tensor(0.63541, device='cuda:0')\n",
      "detected object name is  thankyou\n",
      "score is  tensor(0.63290, device='cuda:0')\n",
      "detected object name is  thankyou\n",
      "score is  tensor(0.63290, device='cuda:0')\n",
      "detected object name is  thankyou\n",
      "score is  tensor(0.61273, device='cuda:0')\n",
      "detected object name is  thankyou\n",
      "score is  tensor(0.61849, device='cuda:0')\n",
      "detected object name is  thankyou\n",
      "score is  tensor(0.63409, device='cuda:0')\n",
      "detected object name is  thankyou\n",
      "score is  tensor(0.63409, device='cuda:0')\n",
      "detected object name is  thankyou\n",
      "score is  tensor(0.63169, device='cuda:0')\n",
      "detected object name is  thankyou\n",
      "score is  tensor(0.65580, device='cuda:0')\n",
      "detected object name is  thankyou\n",
      "score is  tensor(0.65130, device='cuda:0')\n",
      "detected object name is  thankyou\n",
      "score is  tensor(0.65130, device='cuda:0')\n",
      "detected object name is  thankyou\n",
      "score is  tensor(0.63063, device='cuda:0')\n",
      "detected object name is  thankyou\n",
      "score is  tensor(0.66800, device='cuda:0')\n",
      "detected object name is  thankyou\n",
      "score is  tensor(0.61208, device='cuda:0')\n",
      "detected object name is  thankyou\n",
      "score is  tensor(0.42627, device='cuda:0')\n",
      "detected object name is  thankyou\n",
      "score is  tensor(0.48354, device='cuda:0')\n",
      "detected object name is  thankyou\n",
      "score is  tensor(0.57443, device='cuda:0')\n",
      "detected object name is  thankyou\n",
      "score is  tensor(0.64138, device='cuda:0')\n",
      "detected object name is  thankyou\n",
      "score is  tensor(0.64130, device='cuda:0')\n",
      "detected object name is  thankyou\n",
      "score is  tensor(0.62768, device='cuda:0')\n",
      "detected object name is  thankyou\n",
      "score is  tensor(0.62150, device='cuda:0')\n",
      "detected object name is  thankyou\n",
      "score is  tensor(0.61865, device='cuda:0')"
     ]
    },
    {
     "name": "stderr",
     "output_type": "stream",
     "text": [
      "\n",
      "0: 480x640 Done. (0.016s)\n",
      "0: 480x640 Done. (0.016s)\n",
      "0: 480x640 Done. (0.016s)\n",
      "0: 480x640 Done. (0.017s)\n",
      "0: 480x640 Done. (0.016s)\n",
      "0: 480x640 Done. (0.016s)\n",
      "0: 480x640 Done. (0.016s)\n",
      "0: 480x640 Done. (0.016s)\n",
      "0: 480x640 Done. (0.016s)\n",
      "0: 480x640 Done. (0.016s)\n",
      "0: 480x640 Done. (0.016s)\n",
      "0: 480x640 1 thankyou, Done. (0.016s)\n",
      "0: 480x640 1 thankyou, Done. (0.040s)\n",
      "0: 480x640 1 thankyou, Done. (0.017s)\n",
      "0: 480x640 1 thankyou, Done. (0.016s)\n",
      "0: 480x640 1 thankyou, Done. (0.016s)\n",
      "0: 480x640 1 thankyou, Done. (0.017s)\n",
      "0: 480x640 1 thankyou, Done. (0.016s)\n",
      "0: 480x640 1 thankyou, Done. (0.016s)\n",
      "0: 480x640 1 thankyou, Done. (0.016s)\n",
      "0: 480x640 1 thankyou, Done. (0.017s)\n",
      "0: 480x640 1 thankyou, Done. (0.016s)\n",
      "0: 480x640 1 thankyou, Done. (0.016s)\n",
      "0: 480x640 1 thankyou, Done. (0.016s)\n",
      "0: 480x640 1 thankyou, Done. (0.017s)\n",
      "0: 480x640 1 thankyou, Done. (0.017s)\n",
      "0: 480x640 1 thankyou, Done. (0.016s)\n",
      "0: 480x640 1 thankyou, Done. (0.017s)\n",
      "0: 480x640 1 thankyou, Done. (0.017s)\n",
      "0: 480x640 1 thankyou, Done. (0.017s)\n",
      "0: 480x640 1 thankyou, Done. (0.016s)\n",
      "0: 480x640 1 thankyou, Done. (0.017s)\n",
      "0: 480x640 1 thankyou, Done. (0.017s)\n",
      "0: 480x640 1 thankyou, Done. (0.016s)\n",
      "0: 480x640 1 thankyou, Done. (0.017s)\n",
      "0: 480x640 1 thankyou, Done. (0.016s)\n",
      "0: 480x640 Done. (0.017s)\n",
      "0: 480x640 Done. (0.019s)\n",
      "0: 480x640 Done. (0.016s)\n",
      "0: 480x640 1 thankyou, Done. (0.017s)\n",
      "0: 480x640 1 thankyou, Done. (0.016s)\n",
      "0: 480x640 1 thankyou, Done. (0.016s)\n",
      "0: 480x640 1 thankyou, Done. (0.016s)\n",
      "0: 480x640 1 thankyou, Done. (0.016s)\n",
      "0: 480x640 1 thankyou, Done. (0.016s)\n",
      "0: 480x640 1 thankyou, Done. (0.016s)\n",
      "0: 480x640 1 thankyou, Done. (0.016s)\n",
      "0: 480x640 1 thankyou, Done. (0.016s)\n",
      "0: 480x640 1 thankyou, Done. (0.017s)\n",
      "0: 480x640 1 thankyou, Done. (0.017s)\n",
      "0: 480x640 1 thankyou, Done. (0.017s)\n",
      "0: 480x640 1 thankyou, Done. (0.016s)\n",
      "0: 480x640 1 thankyou, Done. (0.016s)\n",
      "0: 480x640 1 thankyou, Done. (0.017s)\n",
      "0: 480x640 1 thankyou, Done. (0.017s)\n",
      "0: 480x640 1 thankyou, Done. (0.017s)\n",
      "0: 480x640 1 thankyou, Done. (0.017s)\n",
      "0: 480x640 1 thankyou, Done. (0.017s)\n",
      "0: 480x640 1 thankyou, Done. (0.018s)\n",
      "0: 480x640 1 thankyou, Done. (0.016s)\n",
      "0: 480x640 1 thankyou, Done. (0.017s)\n",
      "0: 480x640 1 thankyou, Done. (0.017s)\n",
      "0: 480x640 1 thankyou, Done. (0.016s)\n",
      "0: 480x640 1 thankyou, Done. (0.016s)\n",
      "0: 480x640 1 thankyou, Done. (0.016s)\n",
      "0: 480x640 1 thankyou, Done. (0.016s)\n",
      "0: 480x640 1 thankyou, Done. (0.017s)\n",
      "0: 480x640 1 thankyou, Done. (0.017s)\n",
      "0: 480x640 1 thankyou, Done. (0.016s)\n",
      "0: 480x640 1 thankyou, Done. (0.016s)\n",
      "0: 480x640 1 thankyou, Done. (0.017s)\n",
      "0: 480x640 1 thankyou, Done. (0.017s)\n",
      "0: 480x640 1 thankyou, Done. (0.017s)\n",
      "0: 480x640 1 thankyou, Done. (0.016s)\n",
      "0: 480x640 1 thankyou, Done. (0.017s)\n",
      "0: 480x640 1 thankyou, Done. (0.016s)\n",
      "0: 480x640 1 thankyou, Done. (0.016s)\n",
      "0: 480x640 1 thankyou, Done. (0.017s)\n",
      "0: 480x640 1 thankyou, Done. (0.017s)\n",
      "0: 480x640 1 thankyou, Done. (0.016s)\n",
      "0: 480x640 1 thankyou, Done. (0.016s)\n",
      "0: 480x640 1 thankyou, Done. (0.017s)\n",
      "0: 480x640 1 thankyou, Done. (0.016s)\n",
      "0: 480x640 1 thankyou, Done. (0.017s)\n",
      "0: 480x640 1 thankyou, Done. (0.016s)\n",
      "0: 480x640 1 thankyou, Done. (0.017s)\n",
      "0: 480x640 1 thankyou, Done. (0.016s)\n",
      "0: 480x640 1 thankyou, Done. (0.016s)\n",
      "0: 480x640 1 thankyou, Done. (0.016s)\n",
      "0: 480x640 Done. (0.016s)\n",
      "0: 480x640 Done. (0.016s)\n",
      "0: 480x640 Done. (0.019s)\n",
      "0: 480x640 Done. (0.016s)\n",
      "0: 480x640 Done. (0.016s)\n",
      "0: 480x640 1 hello, Done. (0.016s)\n",
      "0: 480x640 2 hellos, Done. (0.016s)\n",
      "0: 480x640 2 hellos, Done. (0.017s)\n",
      "0: 480x640 2 hellos, Done. (0.016s)\n",
      "0: 480x640 2 hellos, Done. (0.017s)\n",
      "0: 480x640 2 hellos, Done. (0.016s)\n",
      "0: 480x640 2 hellos, Done. (0.016s)\n",
      "0: 480x640 2 hellos, Done. (0.019s)\n",
      "0: 480x640 2 hellos, Done. (0.016s)\n",
      "0: 480x640 2 hellos, Done. (0.017s)\n",
      "0: 480x640 2 hellos, Done. (0.017s)\n",
      "0: 480x640 2 hellos, Done. (0.016s)\n",
      "0: 480x640 2 hellos, Done. (0.038s)\n",
      "0: 480x640 2 hellos, Done. (0.017s)\n",
      "0: 480x640 2 hellos, Done. (0.016s)\n",
      "0: 480x640 2 hellos, Done. (0.016s)\n",
      "0: 480x640 Done. (0.016s)\n",
      "0: 480x640 Done. (0.017s)\n",
      "0: 480x640 Done. (0.016s)\n",
      "0: 480x640 Done. (0.017s)\n",
      "0: 480x640 Done. (0.016s)\n",
      "0: 480x640 1 hello, Done. (0.016s)\n",
      "0: 480x640 2 hellos, Done. (0.017s)\n",
      "0: 480x640 2 hellos, Done. (0.017s)\n",
      "0: 480x640 2 hellos, Done. (0.017s)\n",
      "0: 480x640 2 hellos, Done. (0.017s)\n",
      "0: 480x640 2 hellos, Done. (0.016s)\n",
      "0: 480x640 2 hellos, Done. (0.016s)\n",
      "0: 480x640 2 hellos, Done. (0.017s)\n",
      "0: 480x640 2 hellos, Done. (0.016s)\n",
      "0: 480x640 2 hellos, Done. (0.016s)\n",
      "0: 480x640 2 hellos, Done. (0.016s)\n",
      "0: 480x640 2 hellos, Done. (0.017s)\n",
      "0: 480x640 2 hellos, Done. (0.017s)\n",
      "0: 480x640 2 hellos, Done. (0.016s)\n",
      "0: 480x640 2 hellos, Done. (0.016s)\n",
      "0: 480x640 1 hello, Done. (0.016s)\n",
      "0: 480x640 1 hello, Done. (0.017s)\n",
      "0: 480x640 1 hello, Done. (0.017s)\n",
      "0: 480x640 1 hello, Done. (0.017s)\n",
      "0: 480x640 1 hello, Done. (0.016s)\n",
      "0: 480x640 2 hellos, Done. (0.016s)\n",
      "0: 480x640 2 hellos, Done. (0.016s)\n",
      "0: 480x640 2 hellos, Done. (0.016s)\n",
      "0: 480x640 2 hellos, Done. (0.016s)\n",
      "0: 480x640 2 hellos, Done. (0.016s)\n",
      "0: 480x640 2 hellos, Done. (0.017s)\n",
      "0: 480x640 2 hellos, Done. (0.017s)\n",
      "0: 480x640 2 hellos, Done. (0.016s)\n",
      "0: 480x640 2 hellos, Done. (0.018s)\n",
      "0: 480x640 2 hellos, Done. (0.016s)\n",
      "0: 480x640 2 hellos, Done. (0.016s)\n",
      "0: 480x640 2 hellos, Done. (0.016s)\n",
      "0: 480x640 2 hellos, Done. (0.017s)\n",
      "0: 480x640 2 hellos, Done. (0.016s)\n",
      "0: 480x640 2 hellos, Done. (0.016s)\n",
      "0: 480x640 2 hellos, Done. (0.016s)\n",
      "0: 480x640 2 hellos, Done. (0.016s)\n",
      "0: 480x640 1 hello, Done. (0.016s)\n",
      "0: 480x640 Done. (0.017s)\n",
      "0: 480x640 Done. (0.017s)\n",
      "0: 480x640 Done. (0.016s)\n",
      "0: 480x640 1 iloveyou, Done. (0.016s)\n",
      "0: 480x640 1 iloveyou, Done. (0.016s)\n",
      "0: 480x640 Done. (0.016s)\n",
      "0: 480x640 Done. (0.016s)\n",
      "0: 480x640 Done. (0.016s)\n",
      "0: 480x640 1 iloveyou, Done. (0.016s)\n",
      "0: 480x640 Done. (0.016s)\n",
      "0: 480x640 Done. (0.016s)\n",
      "0: 480x640 Done. (0.017s)\n",
      "0: 480x640 Done. (0.017s)\n",
      "0: 480x640 Done. (0.017s)\n",
      "0: 480x640 Done. (0.016s)\n",
      "0: 480x640 Done. (0.016s)\n",
      "0: 480x640 Done. (0.016s)\n",
      "0: 480x640 Done. (0.017s)\n",
      "0: 480x640 Done. (0.016s)\n",
      "0: 480x640 Done. (0.016s)\n",
      "0: 480x640 Done. (0.016s)\n",
      "0: 480x640 Done. (0.016s)\n",
      "0: 480x640 Done. (0.017s)\n",
      "0: 480x640 1 iloveyou, Done. (0.017s)\n",
      "0: 480x640 1 iloveyou, Done. (0.016s)\n",
      "0: 480x640 1 iloveyou, Done. (0.016s)\n",
      "0: 480x640 1 iloveyou, Done. (0.016s)\n",
      "0: 480x640 1 iloveyou, Done. (0.017s)\n",
      "0: 480x640 1 iloveyou, Done. (0.016s)\n",
      "0: 480x640 1 iloveyou, Done. (0.017s)\n",
      "0: 480x640 1 iloveyou, Done. (0.016s)\n",
      "0: 480x640 1 iloveyou, Done. (0.016s)\n",
      "0: 480x640 1 iloveyou, Done. (0.016s)\n",
      "0: 480x640 1 iloveyou, Done. (0.019s)\n",
      "0: 480x640 1 iloveyou, Done. (0.016s)\n",
      "0: 480x640 1 iloveyou, Done. (0.017s)\n",
      "0: 480x640 1 iloveyou, Done. (0.016s)\n",
      "0: 480x640 1 iloveyou, Done. (0.017s)\n",
      "0: 480x640 1 iloveyou, Done. (0.016s)\n",
      "0: 480x640 1 iloveyou, Done. (0.017s)\n",
      "0: 480x640 1 iloveyou, Done. (0.017s)\n",
      "0: 480x640 1 iloveyou, Done. (0.016s)\n",
      "0: 480x640 1 iloveyou, Done. (0.017s)\n",
      "0: 480x640 1 iloveyou, Done. (0.017s)\n",
      "0: 480x640 1 iloveyou, Done. (0.017s)\n",
      "0: 480x640 1 iloveyou, Done. (0.017s)\n",
      "0: 480x640 Done. (0.016s)\n",
      "0: 480x640 Done. (0.017s)\n",
      "0: 480x640 Done. (0.017s)\n",
      "0: 480x640 Done. (0.016s)\n",
      "0: 480x640 Done. (0.016s)\n",
      "0: 480x640 Done. (0.017s)\n",
      "0: 480x640 1 iloveyou, Done. (0.017s)\n",
      "0: 480x640 1 iloveyou, Done. (0.016s)\n",
      "0: 480x640 1 iloveyou, Done. (0.016s)\n",
      "0: 480x640 1 iloveyou, Done. (0.019s)\n",
      "0: 480x640 1 iloveyou, Done. (0.016s)\n",
      "0: 480x640 1 iloveyou, Done. (0.016s)\n",
      "0: 480x640 1 iloveyou, Done. (0.016s)\n",
      "0: 480x640 1 iloveyou, Done. (0.016s)\n",
      "0: 480x640 1 iloveyou, Done. (0.016s)\n",
      "0: 480x640 1 iloveyou, Done. (0.016s)\n",
      "0: 480x640 1 iloveyou, Done. (0.017s)\n",
      "0: 480x640 1 iloveyou, Done. (0.017s)\n",
      "0: 480x640 1 iloveyou, Done. (0.016s)\n",
      "0: 480x640 1 iloveyou, Done. (0.016s)\n",
      "0: 480x640 1 iloveyou, Done. (0.017s)\n",
      "0: 480x640 1 iloveyou, Done. (0.016s)\n",
      "0: 480x640 1 iloveyou, Done. (0.016s)\n",
      "0: 480x640 1 iloveyou, Done. (0.017s)\n",
      "0: 480x640 Done. (0.017s)\n",
      "0: 480x640 Done. (0.016s)\n",
      "0: 480x640 Done. (0.017s)\n",
      "0: 480x640 Done. (0.017s)\n",
      "0: 480x640 Done. (0.016s)\n",
      "0: 480x640 Done. (0.016s)\n",
      "0: 480x640 Done. (0.016s)\n",
      "0: 480x640 1 iloveyou, Done. (0.017s)\n",
      "0: 480x640 1 iloveyou, Done. (0.016s)\n",
      "0: 480x640 1 iloveyou, Done. (0.016s)\n",
      "0: 480x640 1 iloveyou, Done. (0.017s)\n",
      "0: 480x640 1 iloveyou, Done. (0.016s)\n",
      "0: 480x640 1 iloveyou, Done. (0.016s)\n",
      "0: 480x640 1 iloveyou, Done. (0.016s)\n",
      "0: 480x640 1 iloveyou, Done. (0.016s)\n",
      "0: 480x640 1 iloveyou, Done. (0.016s)\n",
      "0: 480x640 1 iloveyou, Done. (0.017s)\n",
      "0: 480x640 1 iloveyou, Done. (0.017s)\n",
      "0: 480x640 Done. (0.016s)\n",
      "0: 480x640 Done. (0.017s)\n",
      "0: 480x640 Done. (0.017s)\n",
      "0: 480x640 Done. (0.016s)\n",
      "0: 480x640 Done. (0.017s)\n",
      "0: 480x640 Done. (0.017s)\n",
      "0: 480x640 Done. (0.016s)\n",
      "0: 480x640 Done. (0.017s)\n",
      "0: 480x640 Done. (0.016s)\n",
      "0: 480x640 Done. (0.016s)\n",
      "0: 480x640 Done. (0.017s)\n",
      "0: 480x640 Done. (0.016s)\n",
      "0: 480x640 Done. (0.016s)\n",
      "0: 480x640 Done. (0.016s)\n",
      "0: 480x640 Done. (0.016s)\n",
      "0: 480x640 Done. (0.016s)\n",
      "0: 480x640 Done. (0.016s)\n",
      "0: 480x640 Done. (0.016s)\n",
      "0: 480x640 Done. (0.016s)\n",
      "0: 480x640 Done. (0.017s)\n",
      "0: 480x640 Done. (0.016s)\n",
      "0: 480x640 Done. (0.017s)\n",
      "0: 480x640 Done. (0.017s)\n",
      "0: 480x640 Done. (0.017s)\n",
      "0: 480x640 Done. (0.016s)\n",
      "0: 480x640 Done. (0.016s)\n",
      "0: 480x640 Done. (0.016s)\n",
      "0: 480x640 Done. (0.016s)\n",
      "0: 480x640 Done. (0.017s)\n",
      "0: 480x640 Done. (0.016s)\n",
      "0: 480x640 Done. (0.017s)\n",
      "0: 480x640 Done. (0.016s)\n",
      "0: 480x640 Done. (0.017s)\n",
      "0: 480x640 Done. (0.017s)\n",
      "0: 480x640 Done. (0.017s)\n",
      "0: 480x640 Done. (0.017s)\n",
      "0: 480x640 Done. (0.017s)\n",
      "0: 480x640 Done. (0.017s)\n",
      "0: 480x640 Done. (0.017s)\n",
      "0: 480x640 Done. (0.017s)\n",
      "0: 480x640 Done. (0.016s)\n",
      "0: 480x640 Done. (0.017s)\n",
      "0: 480x640 Done. (0.017s)\n",
      "0: 480x640 Done. (0.017s)\n",
      "0: 480x640 Done. (0.016s)\n",
      "0: 480x640 Done. (0.016s)\n",
      "0: 480x640 Done. (0.016s)\n",
      "0: 480x640 Done. (0.017s)\n",
      "0: 480x640 Done. (0.017s)\n",
      "0: 480x640 Done. (0.017s)\n",
      "0: 480x640 Done. (0.017s)\n",
      "Speed: 0.9ms pre-process, 19.7ms inference, 2.8ms NMS per image at shape (1, 3, 640, 640)\n",
      "Results saved to \u001b[1mruns\\detect\\exp69\u001b[0m\n"
     ]
    },
    {
     "name": "stdout",
     "output_type": "stream",
     "text": [
      "\n",
      "detected object name is  thankyou\n",
      "score is  tensor(0.64184, device='cuda:0')\n",
      "detected object name is  thankyou\n",
      "score is  tensor(0.62318, device='cuda:0')\n",
      "detected object name is  thankyou\n",
      "score is  tensor(0.61754, device='cuda:0')\n",
      "detected object name is  thankyou\n",
      "score is  tensor(0.61754, device='cuda:0')\n",
      "detected object name is  thankyou\n",
      "score is  tensor(0.65140, device='cuda:0')\n",
      "detected object name is  thankyou\n",
      "score is  tensor(0.63662, device='cuda:0')\n",
      "detected object name is  thankyou\n",
      "score is  tensor(0.65614, device='cuda:0')\n",
      "detected object name is  thankyou\n",
      "score is  tensor(0.65430, device='cuda:0')\n",
      "detected object name is  thankyou\n",
      "score is  tensor(0.66676, device='cuda:0')\n",
      "detected object name is  thankyou\n",
      "score is  tensor(0.65116, device='cuda:0')\n",
      "detected object name is  thankyou\n",
      "score is  tensor(0.63909, device='cuda:0')\n",
      "detected object name is  thankyou\n",
      "score is  tensor(0.66265, device='cuda:0')\n",
      "detected object name is  thankyou\n",
      "score is  tensor(0.62410, device='cuda:0')\n",
      "detected object name is  thankyou\n",
      "score is  tensor(0.61123, device='cuda:0')\n",
      "detected object name is  thankyou\n",
      "score is  tensor(0.58624, device='cuda:0')\n",
      "detected object name is  thankyou\n",
      "score is  tensor(0.60175, device='cuda:0')\n",
      "detected object name is  thankyou\n",
      "score is  tensor(0.58006, device='cuda:0')\n",
      "detected object name is  thankyou\n",
      "score is  tensor(0.61341, device='cuda:0')\n",
      "detected object name is  thankyou\n",
      "score is  tensor(0.61583, device='cuda:0')\n",
      "detected object name is  thankyou\n",
      "score is  tensor(0.60942, device='cuda:0')\n",
      "detected object name is  thankyou\n",
      "score is  tensor(0.65185, device='cuda:0')\n",
      "detected object name is  thankyou\n",
      "score is  tensor(0.63884, device='cuda:0')\n",
      "detected object name is  thankyou\n",
      "score is  tensor(0.52236, device='cuda:0')\n",
      "detected object name is  thankyou\n",
      "score is  tensor(0.58767, device='cuda:0')\n",
      "detected object name is  thankyou\n",
      "score is  tensor(0.62644, device='cuda:0')\n",
      "detected object name is  thankyou\n",
      "score is  tensor(0.62782, device='cuda:0')\n",
      "detected object name is  thankyou\n",
      "score is  tensor(0.58680, device='cuda:0')\n",
      "detected object name is  thankyou\n",
      "score is  tensor(0.60507, device='cuda:0')\n",
      "detected object name is  thankyou\n",
      "score is  tensor(0.61104, device='cuda:0')\n",
      "detected object name is  thankyou\n",
      "score is  tensor(0.60808, device='cuda:0')\n",
      "detected object name is  thankyou\n",
      "score is  tensor(0.58335, device='cuda:0')\n",
      "detected object name is  thankyou\n",
      "score is  tensor(0.53961, device='cuda:0')\n",
      "detected object name is  thankyou\n",
      "score is  tensor(0.61646, device='cuda:0')\n",
      "detected object name is  thankyou\n",
      "score is  tensor(0.60631, device='cuda:0')\n",
      "detected object name is  thankyou\n",
      "score is  tensor(0.60871, device='cuda:0')\n",
      "detected object name is  thankyou\n",
      "score is  tensor(0.59276, device='cuda:0')\n",
      "detected object name is  thankyou\n",
      "score is  tensor(0.58294, device='cuda:0')\n",
      "detected object name is  thankyou\n",
      "score is  tensor(0.56209, device='cuda:0')\n",
      "detected object name is  thankyou\n",
      "score is  tensor(0.56074, device='cuda:0')\n",
      "detected object name is  thankyou\n",
      "score is  tensor(0.47349, device='cuda:0')\n",
      "detected object name is  thankyou\n",
      "score is  tensor(0.46657, device='cuda:0')\n",
      "detected object name is  thankyou\n",
      "score is  tensor(0.34769, device='cuda:0')\n",
      "detected object name is  thankyou\n",
      "score is  tensor(0.35950, device='cuda:0')\n",
      "detected object name is  hello\n",
      "score is  tensor(0.25922, device='cuda:0')\n",
      "detected object name is  hello\n",
      "score is  tensor(0.34823, device='cuda:0')\n",
      "detected object name is  hello\n",
      "score is  tensor(0.39849, device='cuda:0')\n",
      "detected object name is  hello\n",
      "score is  tensor(0.38532, device='cuda:0')\n",
      "detected object name is  hello\n",
      "score is  tensor(0.46360, device='cuda:0')\n",
      "detected object name is  hello\n",
      "score is  tensor(0.46708, device='cuda:0')\n",
      "detected object name is  hello\n",
      "score is  tensor(0.62078, device='cuda:0')\n",
      "detected object name is  hello\n",
      "score is  tensor(0.40125, device='cuda:0')\n",
      "detected object name is  hello\n",
      "score is  tensor(0.57310, device='cuda:0')\n",
      "detected object name is  hello\n",
      "score is  tensor(0.44362, device='cuda:0')\n",
      "detected object name is  hello\n",
      "score is  tensor(0.63205, device='cuda:0')\n",
      "detected object name is  hello\n",
      "score is  tensor(0.41457, device='cuda:0')\n",
      "detected object name is  hello\n",
      "score is  tensor(0.63280, device='cuda:0')\n",
      "detected object name is  hello\n",
      "score is  tensor(0.42581, device='cuda:0')\n",
      "detected object name is  hello\n",
      "score is  tensor(0.70624, device='cuda:0')\n",
      "detected object name is  hello\n",
      "score is  tensor(0.40934, device='cuda:0')\n",
      "detected object name is  hello\n",
      "score is  tensor(0.69931, device='cuda:0')\n",
      "detected object name is  hello\n",
      "score is  tensor(0.43653, device='cuda:0')\n",
      "detected object name is  hello\n",
      "score is  tensor(0.66766, device='cuda:0')\n",
      "detected object name is  hello\n",
      "score is  tensor(0.47088, device='cuda:0')\n",
      "detected object name is  hello\n",
      "score is  tensor(0.67161, device='cuda:0')\n",
      "detected object name is  hello\n",
      "score is  tensor(0.46521, device='cuda:0')\n",
      "detected object name is  hello\n",
      "score is  tensor(0.68733, device='cuda:0')\n",
      "detected object name is  hello\n",
      "score is  tensor(0.43553, device='cuda:0')\n",
      "detected object name is  hello\n",
      "score is  tensor(0.64624, device='cuda:0')\n",
      "detected object name is  hello\n",
      "score is  tensor(0.45027, device='cuda:0')\n",
      "detected object name is  hello\n",
      "score is  tensor(0.72101, device='cuda:0')\n",
      "detected object name is  hello\n",
      "score is  tensor(0.31057, device='cuda:0')\n",
      "detected object name is  hello\n",
      "score is  tensor(0.70440, device='cuda:0')\n",
      "detected object name is  hello\n",
      "score is  tensor(0.25581, device='cuda:0')\n",
      "detected object name is  hello\n",
      "score is  tensor(0.69945, device='cuda:0')\n",
      "detected object name is  hello\n",
      "score is  tensor(0.66334, device='cuda:0')\n",
      "detected object name is  hello\n",
      "score is  tensor(0.32172, device='cuda:0')\n",
      "detected object name is  hello\n",
      "score is  tensor(0.64569, device='cuda:0')\n",
      "detected object name is  hello\n",
      "score is  tensor(0.45448, device='cuda:0')\n",
      "detected object name is  hello\n",
      "score is  tensor(0.60589, device='cuda:0')\n",
      "detected object name is  hello\n",
      "score is  tensor(0.45041, device='cuda:0')\n",
      "detected object name is  hello\n",
      "score is  tensor(0.53661, device='cuda:0')\n",
      "detected object name is  hello\n",
      "score is  tensor(0.43583, device='cuda:0')\n",
      "detected object name is  hello\n",
      "score is  tensor(0.48927, device='cuda:0')\n",
      "detected object name is  hello\n",
      "score is  tensor(0.42919, device='cuda:0')\n",
      "detected object name is  hello\n",
      "score is  tensor(0.48996, device='cuda:0')\n",
      "detected object name is  hello\n",
      "score is  tensor(0.44535, device='cuda:0')\n",
      "detected object name is  hello\n",
      "score is  tensor(0.49691, device='cuda:0')\n",
      "detected object name is  hello\n",
      "score is  tensor(0.39243, device='cuda:0')\n",
      "detected object name is  hello\n",
      "score is  tensor(0.40894, device='cuda:0')\n",
      "detected object name is  hello\n",
      "score is  tensor(0.39186, device='cuda:0')\n",
      "detected object name is  hello\n",
      "score is  tensor(0.40938, device='cuda:0')\n",
      "detected object name is  hello\n",
      "score is  tensor(0.38580, device='cuda:0')\n",
      "detected object name is  hello\n",
      "score is  tensor(0.39566, device='cuda:0')\n",
      "detected object name is  hello\n",
      "score is  tensor(0.32681, device='cuda:0')\n",
      "detected object name is  hello\n",
      "score is  tensor(0.32960, device='cuda:0')\n",
      "detected object name is  hello\n",
      "score is  tensor(0.32343, device='cuda:0')\n",
      "detected object name is  hello\n",
      "score is  tensor(0.32599, device='cuda:0')\n",
      "detected object name is  hello\n",
      "score is  tensor(0.33089, device='cuda:0')\n",
      "detected object name is  hello\n",
      "score is  tensor(0.34751, device='cuda:0')\n",
      "detected object name is  hello\n",
      "score is  tensor(0.32249, device='cuda:0')\n",
      "detected object name is  hello\n",
      "score is  tensor(0.42838, device='cuda:0')\n",
      "detected object name is  hello\n",
      "score is  tensor(0.28547, device='cuda:0')\n",
      "detected object name is  hello\n",
      "score is  tensor(0.41976, device='cuda:0')\n",
      "detected object name is  hello\n",
      "score is  tensor(0.43012, device='cuda:0')\n",
      "detected object name is  hello\n",
      "score is  tensor(0.48867, device='cuda:0')\n",
      "detected object name is  hello\n",
      "score is  tensor(0.44348, device='cuda:0')\n",
      "detected object name is  hello\n",
      "score is  tensor(0.37452, device='cuda:0')\n",
      "detected object name is  hello\n",
      "score is  tensor(0.40801, device='cuda:0')\n",
      "detected object name is  hello\n",
      "score is  tensor(0.25471, device='cuda:0')\n",
      "detected object name is  hello\n",
      "score is  tensor(0.38650, device='cuda:0')\n",
      "detected object name is  hello\n",
      "score is  tensor(0.26315, device='cuda:0')\n",
      "detected object name is  hello\n",
      "score is  tensor(0.38285, device='cuda:0')\n",
      "detected object name is  hello\n",
      "score is  tensor(0.25675, device='cuda:0')\n",
      "detected object name is  hello\n",
      "score is  tensor(0.30624, device='cuda:0')\n",
      "detected object name is  hello\n",
      "score is  tensor(0.26359, device='cuda:0')\n",
      "detected object name is  hello\n",
      "score is  tensor(0.26422, device='cuda:0')\n",
      "detected object name is  hello\n",
      "score is  tensor(0.36484, device='cuda:0')\n",
      "detected object name is  hello\n",
      "score is  tensor(0.36539, device='cuda:0')\n",
      "detected object name is  hello\n",
      "score is  tensor(0.30200, device='cuda:0')\n",
      "detected object name is  hello\n",
      "score is  tensor(0.30428, device='cuda:0')\n",
      "detected object name is  hello\n",
      "score is  tensor(0.38716, device='cuda:0')\n",
      "detected object name is  hello\n",
      "score is  tensor(0.40206, device='cuda:0')\n",
      "detected object name is  hello\n",
      "score is  tensor(0.32720, device='cuda:0')\n",
      "detected object name is  hello\n",
      "score is  tensor(0.32745, device='cuda:0')\n",
      "detected object name is  hello\n",
      "score is  tensor(0.41027, device='cuda:0')\n",
      "detected object name is  hello\n",
      "score is  tensor(0.53336, device='cuda:0')\n",
      "detected object name is  hello\n",
      "score is  tensor(0.36487, device='cuda:0')\n",
      "detected object name is  hello\n",
      "score is  tensor(0.54829, device='cuda:0')\n",
      "detected object name is  hello\n",
      "score is  tensor(0.38871, device='cuda:0')\n",
      "detected object name is  hello\n",
      "score is  tensor(0.55676, device='cuda:0')\n",
      "detected object name is  hello\n",
      "score is  tensor(0.43247, device='cuda:0')\n",
      "detected object name is  hello\n",
      "score is  tensor(0.57732, device='cuda:0')\n",
      "detected object name is  hello\n",
      "score is  tensor(0.40728, device='cuda:0')\n",
      "detected object name is  hello\n",
      "score is  tensor(0.55967, device='cuda:0')\n",
      "detected object name is  hello\n",
      "score is  tensor(0.39409, device='cuda:0')\n",
      "detected object name is  hello\n",
      "score is  tensor(0.55442, device='cuda:0')\n",
      "detected object name is  hello\n",
      "score is  tensor(0.44855, device='cuda:0')\n",
      "detected object name is  hello\n",
      "score is  tensor(0.60919, device='cuda:0')\n",
      "detected object name is  hello\n",
      "score is  tensor(0.48697, device='cuda:0')\n",
      "detected object name is  hello\n",
      "score is  tensor(0.64300, device='cuda:0')\n",
      "detected object name is  hello\n",
      "score is  tensor(0.45722, device='cuda:0')\n",
      "detected object name is  hello\n",
      "score is  tensor(0.68630, device='cuda:0')\n",
      "detected object name is  hello\n",
      "score is  tensor(0.49143, device='cuda:0')\n",
      "detected object name is  iloveyou\n",
      "score is  tensor(0.42660, device='cuda:0')\n",
      "detected object name is  iloveyou\n",
      "score is  tensor(0.47753, device='cuda:0')\n",
      "detected object name is  iloveyou\n",
      "score is  tensor(0.26211, device='cuda:0')\n",
      "detected object name is  iloveyou\n",
      "score is  tensor(0.43357, device='cuda:0')\n",
      "detected object name is  iloveyou\n",
      "score is  tensor(0.66031, device='cuda:0')\n",
      "detected object name is  iloveyou\n",
      "score is  tensor(0.69445, device='cuda:0')\n",
      "detected object name is  iloveyou\n",
      "score is  tensor(0.67596, device='cuda:0')\n",
      "detected object name is  iloveyou\n",
      "score is  tensor(0.70443, device='cuda:0')\n",
      "detected object name is  iloveyou\n",
      "score is  tensor(0.74734, device='cuda:0')\n",
      "detected object name is  iloveyou\n",
      "score is  tensor(0.73023, device='cuda:0')\n",
      "detected object name is  iloveyou\n",
      "score is  tensor(0.73785, device='cuda:0')\n",
      "detected object name is  iloveyou\n",
      "score is  tensor(0.75371, device='cuda:0')\n",
      "detected object name is  iloveyou\n",
      "score is  tensor(0.75054, device='cuda:0')\n",
      "detected object name is  iloveyou\n",
      "score is  tensor(0.73165, device='cuda:0')\n",
      "detected object name is  iloveyou\n",
      "score is  tensor(0.73906, device='cuda:0')\n",
      "detected object name is  iloveyou\n",
      "score is  tensor(0.74403, device='cuda:0')\n",
      "detected object name is  iloveyou\n",
      "score is  tensor(0.73502, device='cuda:0')\n",
      "detected object name is  iloveyou\n",
      "score is  tensor(0.74271, device='cuda:0')\n",
      "detected object name is  iloveyou\n",
      "score is  tensor(0.75488, device='cuda:0')\n",
      "detected object name is  iloveyou\n",
      "score is  tensor(0.75889, device='cuda:0')\n",
      "detected object name is  iloveyou\n",
      "score is  tensor(0.75253, device='cuda:0')\n",
      "detected object name is  iloveyou\n",
      "score is  tensor(0.73756, device='cuda:0')\n",
      "detected object name is  iloveyou\n",
      "score is  tensor(0.72814, device='cuda:0')\n",
      "detected object name is  iloveyou\n",
      "score is  tensor(0.72351, device='cuda:0')\n",
      "detected object name is  iloveyou\n",
      "score is  tensor(0.65869, device='cuda:0')\n",
      "detected object name is  iloveyou\n",
      "score is  tensor(0.51130, device='cuda:0')\n",
      "detected object name is  iloveyou\n",
      "score is  tensor(0.30984, device='cuda:0')\n",
      "detected object name is  iloveyou\n",
      "score is  tensor(0.61846, device='cuda:0')\n",
      "detected object name is  iloveyou\n",
      "score is  tensor(0.67342, device='cuda:0')\n",
      "detected object name is  iloveyou\n",
      "score is  tensor(0.72148, device='cuda:0')\n",
      "detected object name is  iloveyou\n",
      "score is  tensor(0.72148, device='cuda:0')\n",
      "detected object name is  iloveyou\n",
      "score is  tensor(0.71979, device='cuda:0')\n",
      "detected object name is  iloveyou\n",
      "score is  tensor(0.72307, device='cuda:0')\n",
      "detected object name is  iloveyou\n",
      "score is  tensor(0.72758, device='cuda:0')\n",
      "detected object name is  iloveyou\n",
      "score is  tensor(0.72758, device='cuda:0')\n",
      "detected object name is  iloveyou\n",
      "score is  tensor(0.72008, device='cuda:0')\n",
      "detected object name is  iloveyou\n",
      "score is  tensor(0.72968, device='cuda:0')\n",
      "detected object name is  iloveyou\n",
      "score is  tensor(0.72922, device='cuda:0')\n",
      "detected object name is  iloveyou\n",
      "score is  tensor(0.72922, device='cuda:0')\n",
      "detected object name is  iloveyou\n",
      "score is  tensor(0.73244, device='cuda:0')\n",
      "detected object name is  iloveyou\n",
      "score is  tensor(0.74420, device='cuda:0')\n",
      "detected object name is  iloveyou\n",
      "score is  tensor(0.74420, device='cuda:0')\n",
      "detected object name is  iloveyou\n",
      "score is  tensor(0.74420, device='cuda:0')\n",
      "detected object name is  iloveyou\n",
      "score is  tensor(0.37753, device='cuda:0')\n",
      "detected object name is  iloveyou\n",
      "score is  tensor(0.71323, device='cuda:0')\n",
      "detected object name is  iloveyou\n",
      "score is  tensor(0.73150, device='cuda:0')\n",
      "detected object name is  iloveyou\n",
      "score is  tensor(0.73408, device='cuda:0')\n",
      "detected object name is  iloveyou\n",
      "score is  tensor(0.73201, device='cuda:0')\n",
      "detected object name is  iloveyou\n",
      "score is  tensor(0.74871, device='cuda:0')\n",
      "detected object name is  iloveyou\n",
      "score is  tensor(0.75227, device='cuda:0')\n",
      "detected object name is  iloveyou\n",
      "score is  tensor(0.74435, device='cuda:0')\n",
      "detected object name is  iloveyou\n",
      "score is  tensor(0.73608, device='cuda:0')\n",
      "detected object name is  iloveyou\n",
      "score is  tensor(0.72596, device='cuda:0')\n",
      "detected object name is  iloveyou\n",
      "score is  tensor(0.67960, device='cuda:0')\n",
      "detected object name is  iloveyou\n",
      "score is  tensor(0.50831, device='cuda:0')\n"
     ]
    }
   ],
   "source": [
    "\n",
    "!python \"detect.py\" --weights \"runs/train/exp28/weights/last.pt\" --img 640 --source 0"
   ]
  },
  {
   "cell_type": "code",
   "execution_count": 42,
   "metadata": {},
   "outputs": [
    {
     "data": {
      "image/png": "[encoded data removed]",
      "text/plain": [
       "<Figure size 432x288 with 1 Axes>"
      ]
     },
     "metadata": {
      "needs_background": "light"
     },
     "output_type": "display_data"
    }
   ],
   "source": [
    "%matplotlib inline \n",
    "plt.imshow(np.squeeze(results.render())) \n",
    "plt.show()"
   ]
  },
  {
   "cell_type": "code",
   "execution_count": 10,
   "metadata": {},
   "outputs": [
    {
     "name": "stderr",
     "output_type": "stream",
     "text": [
      "image 1/1: 480x640 (no detections)\n",
      "Speed: 6.0ms pre-process, 800.8ms inference, 9.8ms NMS per image at shape (1, 3, 480, 640)\n",
      "image 1/1: 480x640 (no detections)\n",
      "Speed: 1.9ms pre-process, 21.0ms inference, 1.0ms NMS per image at shape (1, 3, 480, 640)\n",
      "image 1/1: 480x640 (no detections)\n",
      "Speed: 2.0ms pre-process, 21.0ms inference, 2.0ms NMS per image at shape (1, 3, 480, 640)\n",
      "image 1/1: 480x640 (no detections)\n",
      "Speed: 2.0ms pre-process, 21.1ms inference, 0.9ms NMS per image at shape (1, 3, 480, 640)\n"
     ]
    },
    {
     "name": "stdout",
     "output_type": "stream",
     "text": [
      "None\n",
      "None\n",
      "None\n",
      "None\n"
     ]
    },
    {
     "name": "stderr",
     "output_type": "stream",
     "text": [
      "image 1/1: 480x640 (no detections)\n",
      "Speed: 1.9ms pre-process, 23.0ms inference, 1.0ms NMS per image at shape (1, 3, 480, 640)\n",
      "image 1/1: 480x640 (no detections)\n",
      "Speed: 2.0ms pre-process, 21.0ms inference, 1.0ms NMS per image at shape (1, 3, 480, 640)\n",
      "image 1/1: 480x640 (no detections)\n",
      "Speed: 2.0ms pre-process, 22.1ms inference, 1.9ms NMS per image at shape (1, 3, 480, 640)\n",
      "image 1/1: 480x640 (no detections)\n",
      "Speed: 3.0ms pre-process, 22.0ms inference, 1.0ms NMS per image at shape (1, 3, 480, 640)\n",
      "image 1/1: 480x640 (no detections)\n",
      "Speed: 2.0ms pre-process, 21.0ms inference, 1.0ms NMS per image at shape (1, 3, 480, 640)\n"
     ]
    },
    {
     "name": "stdout",
     "output_type": "stream",
     "text": [
      "None\n",
      "None\n",
      "None\n",
      "None\n",
      "None\n"
     ]
    },
    {
     "name": "stderr",
     "output_type": "stream",
     "text": [
      "image 1/1: 480x640 (no detections)\n",
      "Speed: 3.0ms pre-process, 20.0ms inference, 2.0ms NMS per image at shape (1, 3, 480, 640)\n",
      "image 1/1: 480x640 (no detections)\n",
      "Speed: 1.7ms pre-process, 21.0ms inference, 1.0ms NMS per image at shape (1, 3, 480, 640)\n",
      "image 1/1: 480x640 (no detections)\n",
      "Speed: 1.7ms pre-process, 19.0ms inference, 1.0ms NMS per image at shape (1, 3, 480, 640)\n",
      "image 1/1: 480x640 (no detections)\n",
      "Speed: 3.0ms pre-process, 19.0ms inference, 1.0ms NMS per image at shape (1, 3, 480, 640)\n",
      "image 1/1: 480x640 (no detections)\n"
     ]
    },
    {
     "name": "stdout",
     "output_type": "stream",
     "text": [
      "None\n",
      "None\n",
      "None\n",
      "None\n"
     ]
    },
    {
     "name": "stderr",
     "output_type": "stream",
     "text": [
      "Speed: 1.8ms pre-process, 19.0ms inference, 1.0ms NMS per image at shape (1, 3, 480, 640)\n",
      "image 1/1: 480x640 (no detections)\n",
      "Speed: 2.0ms pre-process, 19.0ms inference, 1.0ms NMS per image at shape (1, 3, 480, 640)\n",
      "image 1/1: 480x640 (no detections)\n",
      "Speed: 1.0ms pre-process, 18.0ms inference, 1.0ms NMS per image at shape (1, 3, 480, 640)\n",
      "image 1/1: 480x640 (no detections)\n",
      "Speed: 1.7ms pre-process, 18.0ms inference, 1.0ms NMS per image at shape (1, 3, 480, 640)\n",
      "image 1/1: 480x640 (no detections)\n"
     ]
    },
    {
     "name": "stdout",
     "output_type": "stream",
     "text": [
      "None\n",
      "None\n",
      "None\n",
      "None\n"
     ]
    },
    {
     "name": "stderr",
     "output_type": "stream",
     "text": [
      "Speed: 1.8ms pre-process, 18.0ms inference, 1.0ms NMS per image at shape (1, 3, 480, 640)\n",
      "image 1/1: 480x640 (no detections)\n",
      "Speed: 2.0ms pre-process, 18.0ms inference, 1.0ms NMS per image at shape (1, 3, 480, 640)\n",
      "image 1/1: 480x640 (no detections)\n",
      "Speed: 1.0ms pre-process, 18.0ms inference, 1.0ms NMS per image at shape (1, 3, 480, 640)\n",
      "image 1/1: 480x640 (no detections)\n",
      "Speed: 1.9ms pre-process, 19.0ms inference, 1.0ms NMS per image at shape (1, 3, 480, 640)\n",
      "image 1/1: 480x640 (no detections)\n"
     ]
    },
    {
     "name": "stdout",
     "output_type": "stream",
     "text": [
      "None\n",
      "None\n",
      "None\n",
      "None\n"
     ]
    },
    {
     "name": "stderr",
     "output_type": "stream",
     "text": [
      "Speed: 1.7ms pre-process, 18.0ms inference, 1.0ms NMS per image at shape (1, 3, 480, 640)\n",
      "image 1/1: 480x640 (no detections)\n",
      "Speed: 1.8ms pre-process, 17.0ms inference, 1.0ms NMS per image at shape (1, 3, 480, 640)\n",
      "image 1/1: 480x640 (no detections)\n",
      "Speed: 1.9ms pre-process, 17.1ms inference, 1.0ms NMS per image at shape (1, 3, 480, 640)\n",
      "image 1/1: 480x640 (no detections)\n",
      "Speed: 2.0ms pre-process, 17.0ms inference, 1.0ms NMS per image at shape (1, 3, 480, 640)\n",
      "image 1/1: 480x640 (no detections)\n"
     ]
    },
    {
     "name": "stdout",
     "output_type": "stream",
     "text": [
      "None\n",
      "None\n",
      "None\n",
      "None\n"
     ]
    },
    {
     "name": "stderr",
     "output_type": "stream",
     "text": [
      "Speed: 2.0ms pre-process, 18.0ms inference, 1.0ms NMS per image at shape (1, 3, 480, 640)\n",
      "image 1/1: 480x640 (no detections)\n",
      "Speed: 2.0ms pre-process, 17.0ms inference, 1.0ms NMS per image at shape (1, 3, 480, 640)\n",
      "image 1/1: 480x640 (no detections)\n",
      "Speed: 1.7ms pre-process, 20.0ms inference, 1.0ms NMS per image at shape (1, 3, 480, 640)\n",
      "image 1/1: 480x640 (no detections)\n",
      "Speed: 2.0ms pre-process, 17.0ms inference, 1.0ms NMS per image at shape (1, 3, 480, 640)\n",
      "image 1/1: 480x640 (no detections)\n"
     ]
    },
    {
     "name": "stdout",
     "output_type": "stream",
     "text": [
      "None\n",
      "None\n",
      "None\n",
      "None\n"
     ]
    },
    {
     "name": "stderr",
     "output_type": "stream",
     "text": [
      "Speed: 1.9ms pre-process, 17.0ms inference, 1.0ms NMS per image at shape (1, 3, 480, 640)\n",
      "image 1/1: 480x640 (no detections)\n",
      "Speed: 2.1ms pre-process, 18.0ms inference, 1.0ms NMS per image at shape (1, 3, 480, 640)\n",
      "image 1/1: 480x640 (no detections)\n",
      "Speed: 1.7ms pre-process, 17.0ms inference, 1.0ms NMS per image at shape (1, 3, 480, 640)\n",
      "image 1/1: 480x640 (no detections)\n",
      "Speed: 1.8ms pre-process, 17.0ms inference, 1.0ms NMS per image at shape (1, 3, 480, 640)\n",
      "image 1/1: 480x640 (no detections)\n"
     ]
    },
    {
     "name": "stdout",
     "output_type": "stream",
     "text": [
      "None\n",
      "None\n",
      "None\n",
      "None\n"
     ]
    },
    {
     "name": "stderr",
     "output_type": "stream",
     "text": [
      "Speed: 2.0ms pre-process, 17.0ms inference, 1.0ms NMS per image at shape (1, 3, 480, 640)\n",
      "image 1/1: 480x640 (no detections)\n",
      "Speed: 1.0ms pre-process, 18.0ms inference, 1.0ms NMS per image at shape (1, 3, 480, 640)\n",
      "image 1/1: 480x640 (no detections)\n",
      "Speed: 1.7ms pre-process, 17.0ms inference, 1.9ms NMS per image at shape (1, 3, 480, 640)\n",
      "image 1/1: 480x640 (no detections)\n",
      "Speed: 2.7ms pre-process, 17.0ms inference, 1.1ms NMS per image at shape (1, 3, 480, 640)\n",
      "image 1/1: 480x640 (no detections)\n"
     ]
    },
    {
     "name": "stdout",
     "output_type": "stream",
     "text": [
      "None\n",
      "None\n",
      "None\n",
      "None\n"
     ]
    },
    {
     "name": "stderr",
     "output_type": "stream",
     "text": [
      "Speed: 1.8ms pre-process, 17.0ms inference, 1.0ms NMS per image at shape (1, 3, 480, 640)\n",
      "image 1/1: 480x640 (no detections)\n",
      "Speed: 1.0ms pre-process, 18.0ms inference, 1.0ms NMS per image at shape (1, 3, 480, 640)\n",
      "image 1/1: 480x640 (no detections)\n",
      "Speed: 1.8ms pre-process, 17.0ms inference, 1.0ms NMS per image at shape (1, 3, 480, 640)\n",
      "image 1/1: 480x640 (no detections)\n",
      "Speed: 2.0ms pre-process, 17.0ms inference, 1.1ms NMS per image at shape (1, 3, 480, 640)\n",
      "image 1/1: 480x640 (no detections)\n"
     ]
    },
    {
     "name": "stdout",
     "output_type": "stream",
     "text": [
      "None\n",
      "None\n",
      "None\n",
      "None\n"
     ]
    },
    {
     "name": "stderr",
     "output_type": "stream",
     "text": [
      "Speed: 2.0ms pre-process, 18.0ms inference, 1.0ms NMS per image at shape (1, 3, 480, 640)\n",
      "image 1/1: 480x640 (no detections)\n",
      "Speed: 2.0ms pre-process, 18.0ms inference, 1.0ms NMS per image at shape (1, 3, 480, 640)\n",
      "image 1/1: 480x640 (no detections)\n",
      "Speed: 1.8ms pre-process, 17.0ms inference, 1.0ms NMS per image at shape (1, 3, 480, 640)\n",
      "image 1/1: 480x640 (no detections)\n",
      "Speed: 1.7ms pre-process, 17.1ms inference, 0.9ms NMS per image at shape (1, 3, 480, 640)\n",
      "image 1/1: 480x640 (no detections)\n"
     ]
    },
    {
     "name": "stdout",
     "output_type": "stream",
     "text": [
      "None\n",
      "None\n",
      "None\n",
      "None\n"
     ]
    },
    {
     "name": "stderr",
     "output_type": "stream",
     "text": [
      "Speed: 2.0ms pre-process, 17.0ms inference, 1.0ms NMS per image at shape (1, 3, 480, 640)\n",
      "image 1/1: 480x640 (no detections)\n",
      "Speed: 4.0ms pre-process, 18.0ms inference, 1.0ms NMS per image at shape (1, 3, 480, 640)\n",
      "image 1/1: 480x640 (no detections)\n",
      "Speed: 4.0ms pre-process, 17.0ms inference, 1.0ms NMS per image at shape (1, 3, 480, 640)\n",
      "image 1/1: 480x640 (no detections)\n",
      "Speed: 2.0ms pre-process, 18.0ms inference, 1.0ms NMS per image at shape (1, 3, 480, 640)\n",
      "image 1/1: 480x640 (no detections)\n"
     ]
    },
    {
     "name": "stdout",
     "output_type": "stream",
     "text": [
      "None\n",
      "None\n",
      "None\n",
      "None\n"
     ]
    },
    {
     "name": "stderr",
     "output_type": "stream",
     "text": [
      "Speed: 4.0ms pre-process, 18.0ms inference, 2.0ms NMS per image at shape (1, 3, 480, 640)\n",
      "image 1/1: 480x640 (no detections)\n",
      "Speed: 2.0ms pre-process, 18.0ms inference, 1.0ms NMS per image at shape (1, 3, 480, 640)\n",
      "image 1/1: 480x640 (no detections)\n",
      "Speed: 2.0ms pre-process, 18.0ms inference, 1.0ms NMS per image at shape (1, 3, 480, 640)\n",
      "image 1/1: 480x640 (no detections)\n",
      "Speed: 2.0ms pre-process, 17.0ms inference, 1.0ms NMS per image at shape (1, 3, 480, 640)\n",
      "image 1/1: 480x640 (no detections)\n"
     ]
    },
    {
     "name": "stdout",
     "output_type": "stream",
     "text": [
      "None\n",
      "None\n",
      "None\n",
      "None\n"
     ]
    },
    {
     "name": "stderr",
     "output_type": "stream",
     "text": [
      "Speed: 2.0ms pre-process, 17.0ms inference, 1.0ms NMS per image at shape (1, 3, 480, 640)\n",
      "image 1/1: 480x640 (no detections)\n",
      "Speed: 2.0ms pre-process, 17.0ms inference, 1.0ms NMS per image at shape (1, 3, 480, 640)\n",
      "image 1/1: 480x640 (no detections)\n",
      "Speed: 3.0ms pre-process, 17.0ms inference, 1.0ms NMS per image at shape (1, 3, 480, 640)\n",
      "image 1/1: 480x640 (no detections)\n",
      "Speed: 2.0ms pre-process, 19.0ms inference, 1.0ms NMS per image at shape (1, 3, 480, 640)\n",
      "image 1/1: 480x640 (no detections)\n"
     ]
    },
    {
     "name": "stdout",
     "output_type": "stream",
     "text": [
      "None\n",
      "None\n",
      "None\n",
      "None\n"
     ]
    },
    {
     "name": "stderr",
     "output_type": "stream",
     "text": [
      "Speed: 2.0ms pre-process, 17.0ms inference, 1.0ms NMS per image at shape (1, 3, 480, 640)\n",
      "image 1/1: 480x640 (no detections)\n",
      "Speed: 2.0ms pre-process, 17.0ms inference, 1.0ms NMS per image at shape (1, 3, 480, 640)\n",
      "image 1/1: 480x640 (no detections)\n",
      "Speed: 2.0ms pre-process, 17.0ms inference, 1.0ms NMS per image at shape (1, 3, 480, 640)\n",
      "image 1/1: 480x640 (no detections)\n",
      "Speed: 2.0ms pre-process, 17.0ms inference, 2.0ms NMS per image at shape (1, 3, 480, 640)\n",
      "image 1/1: 480x640 (no detections)\n"
     ]
    },
    {
     "name": "stdout",
     "output_type": "stream",
     "text": [
      "None\n",
      "None\n",
      "None\n",
      "None\n"
     ]
    },
    {
     "name": "stderr",
     "output_type": "stream",
     "text": [
      "Speed: 2.0ms pre-process, 17.0ms inference, 1.0ms NMS per image at shape (1, 3, 480, 640)\n",
      "image 1/1: 480x640 (no detections)\n",
      "Speed: 3.0ms pre-process, 18.0ms inference, 1.0ms NMS per image at shape (1, 3, 480, 640)\n",
      "image 1/1: 480x640 (no detections)\n",
      "Speed: 1.0ms pre-process, 18.0ms inference, 1.0ms NMS per image at shape (1, 3, 480, 640)\n",
      "image 1/1: 480x640 (no detections)\n",
      "Speed: 2.0ms pre-process, 17.0ms inference, 1.0ms NMS per image at shape (1, 3, 480, 640)\n",
      "image 1/1: 480x640 (no detections)\n"
     ]
    },
    {
     "name": "stdout",
     "output_type": "stream",
     "text": [
      "None\n",
      "None\n",
      "None\n",
      "None\n"
     ]
    },
    {
     "name": "stderr",
     "output_type": "stream",
     "text": [
      "Speed: 1.0ms pre-process, 18.0ms inference, 1.0ms NMS per image at shape (1, 3, 480, 640)\n",
      "image 1/1: 480x640 (no detections)\n",
      "Speed: 1.0ms pre-process, 18.0ms inference, 1.0ms NMS per image at shape (1, 3, 480, 640)\n",
      "image 1/1: 480x640 (no detections)\n",
      "Speed: 2.0ms pre-process, 17.0ms inference, 2.0ms NMS per image at shape (1, 3, 480, 640)\n",
      "image 1/1: 480x640 (no detections)\n",
      "Speed: 2.0ms pre-process, 18.0ms inference, 1.0ms NMS per image at shape (1, 3, 480, 640)\n",
      "image 1/1: 480x640 (no detections)\n"
     ]
    },
    {
     "name": "stdout",
     "output_type": "stream",
     "text": [
      "None\n",
      "None\n",
      "None\n",
      "None\n"
     ]
    },
    {
     "name": "stderr",
     "output_type": "stream",
     "text": [
      "Speed: 2.0ms pre-process, 18.0ms inference, 1.0ms NMS per image at shape (1, 3, 480, 640)\n",
      "image 1/1: 480x640 (no detections)\n",
      "Speed: 1.6ms pre-process, 18.0ms inference, 1.0ms NMS per image at shape (1, 3, 480, 640)\n",
      "image 1/1: 480x640 (no detections)\n",
      "Speed: 2.0ms pre-process, 17.0ms inference, 1.0ms NMS per image at shape (1, 3, 480, 640)\n",
      "image 1/1: 480x640 (no detections)\n",
      "Speed: 1.0ms pre-process, 18.0ms inference, 1.0ms NMS per image at shape (1, 3, 480, 640)\n",
      "image 1/1: 480x640 (no detections)\n"
     ]
    },
    {
     "name": "stdout",
     "output_type": "stream",
     "text": [
      "None\n",
      "None\n",
      "None\n",
      "None\n"
     ]
    },
    {
     "name": "stderr",
     "output_type": "stream",
     "text": [
      "Speed: 2.0ms pre-process, 17.0ms inference, 2.0ms NMS per image at shape (1, 3, 480, 640)\n",
      "image 1/1: 480x640 (no detections)\n",
      "Speed: 2.0ms pre-process, 17.0ms inference, 1.0ms NMS per image at shape (1, 3, 480, 640)\n",
      "image 1/1: 480x640 (no detections)\n",
      "Speed: 2.0ms pre-process, 17.0ms inference, 1.0ms NMS per image at shape (1, 3, 480, 640)\n",
      "image 1/1: 480x640 (no detections)\n",
      "Speed: 2.0ms pre-process, 17.0ms inference, 1.0ms NMS per image at shape (1, 3, 480, 640)\n",
      "image 1/1: 480x640 (no detections)\n"
     ]
    },
    {
     "name": "stdout",
     "output_type": "stream",
     "text": [
      "None\n",
      "None\n",
      "None\n",
      "None\n"
     ]
    },
    {
     "name": "stderr",
     "output_type": "stream",
     "text": [
      "Speed: 2.0ms pre-process, 18.0ms inference, 1.0ms NMS per image at shape (1, 3, 480, 640)\n",
      "image 1/1: 480x640 (no detections)\n",
      "Speed: 2.0ms pre-process, 18.0ms inference, 1.0ms NMS per image at shape (1, 3, 480, 640)\n",
      "image 1/1: 480x640 (no detections)\n",
      "Speed: 1.0ms pre-process, 18.0ms inference, 1.0ms NMS per image at shape (1, 3, 480, 640)\n",
      "image 1/1: 480x640 (no detections)\n",
      "Speed: 1.0ms pre-process, 18.0ms inference, 1.0ms NMS per image at shape (1, 3, 480, 640)\n",
      "image 1/1: 480x640 (no detections)\n"
     ]
    },
    {
     "name": "stdout",
     "output_type": "stream",
     "text": [
      "None\n",
      "None\n",
      "None\n",
      "None\n"
     ]
    },
    {
     "name": "stderr",
     "output_type": "stream",
     "text": [
      "Speed: 2.0ms pre-process, 17.0ms inference, 2.0ms NMS per image at shape (1, 3, 480, 640)\n",
      "image 1/1: 480x640 (no detections)\n",
      "Speed: 2.0ms pre-process, 17.0ms inference, 1.0ms NMS per image at shape (1, 3, 480, 640)\n",
      "image 1/1: 480x640 (no detections)\n",
      "Speed: 1.0ms pre-process, 18.0ms inference, 1.0ms NMS per image at shape (1, 3, 480, 640)\n",
      "image 1/1: 480x640 (no detections)\n",
      "Speed: 1.8ms pre-process, 17.0ms inference, 1.0ms NMS per image at shape (1, 3, 480, 640)\n",
      "image 1/1: 480x640 (no detections)\n"
     ]
    },
    {
     "name": "stdout",
     "output_type": "stream",
     "text": [
      "None\n",
      "None\n",
      "None\n",
      "None\n"
     ]
    },
    {
     "name": "stderr",
     "output_type": "stream",
     "text": [
      "Speed: 1.0ms pre-process, 18.0ms inference, 1.0ms NMS per image at shape (1, 3, 480, 640)\n",
      "image 1/1: 480x640 (no detections)\n",
      "Speed: 1.0ms pre-process, 18.0ms inference, 1.0ms NMS per image at shape (1, 3, 480, 640)\n",
      "image 1/1: 480x640 (no detections)\n",
      "Speed: 1.7ms pre-process, 17.0ms inference, 2.0ms NMS per image at shape (1, 3, 480, 640)\n",
      "image 1/1: 480x640 (no detections)\n",
      "Speed: 2.8ms pre-process, 17.0ms inference, 1.0ms NMS per image at shape (1, 3, 480, 640)\n",
      "image 1/1: 480x640 (no detections)\n",
      "Speed: 1.9ms pre-process, 18.0ms inference, 1.0ms NMS per image at shape (1, 3, 480, 640)\n"
     ]
    },
    {
     "name": "stdout",
     "output_type": "stream",
     "text": [
      "None\n",
      "None\n",
      "None\n",
      "None\n",
      "None\n"
     ]
    },
    {
     "name": "stderr",
     "output_type": "stream",
     "text": [
      "image 1/1: 480x640 (no detections)\n",
      "Speed: 2.0ms pre-process, 17.0ms inference, 2.0ms NMS per image at shape (1, 3, 480, 640)\n",
      "image 1/1: 480x640 (no detections)\n",
      "Speed: 3.7ms pre-process, 20.0ms inference, 1.0ms NMS per image at shape (1, 3, 480, 640)\n",
      "image 1/1: 480x640 (no detections)\n",
      "Speed: 0.9ms pre-process, 18.0ms inference, 1.0ms NMS per image at shape (1, 3, 480, 640)\n",
      "image 1/1: 480x640 (no detections)\n",
      "Speed: 1.0ms pre-process, 18.0ms inference, 1.0ms NMS per image at shape (1, 3, 480, 640)\n",
      "image 1/1: 480x640 (no detections)\n"
     ]
    },
    {
     "name": "stdout",
     "output_type": "stream",
     "text": [
      "None\n",
      "None\n",
      "None\n",
      "None\n"
     ]
    },
    {
     "name": "stderr",
     "output_type": "stream",
     "text": [
      "Speed: 1.9ms pre-process, 17.0ms inference, 1.0ms NMS per image at shape (1, 3, 480, 640)\n",
      "image 1/1: 480x640 (no detections)\n",
      "Speed: 2.0ms pre-process, 17.0ms inference, 1.0ms NMS per image at shape (1, 3, 480, 640)\n",
      "image 1/1: 480x640 (no detections)\n",
      "Speed: 1.8ms pre-process, 17.0ms inference, 1.0ms NMS per image at shape (1, 3, 480, 640)\n",
      "image 1/1: 480x640 (no detections)\n",
      "Speed: 2.0ms pre-process, 17.0ms inference, 1.0ms NMS per image at shape (1, 3, 480, 640)\n",
      "image 1/1: 480x640 (no detections)\n"
     ]
    },
    {
     "name": "stdout",
     "output_type": "stream",
     "text": [
      "None\n",
      "None\n",
      "None\n",
      "None\n"
     ]
    },
    {
     "name": "stderr",
     "output_type": "stream",
     "text": [
      "Speed: 2.0ms pre-process, 17.0ms inference, 1.0ms NMS per image at shape (1, 3, 480, 640)\n",
      "image 1/1: 480x640 (no detections)\n",
      "Speed: 1.7ms pre-process, 17.0ms inference, 1.0ms NMS per image at shape (1, 3, 480, 640)\n",
      "image 1/1: 480x640 (no detections)\n",
      "Speed: 0.9ms pre-process, 18.0ms inference, 1.0ms NMS per image at shape (1, 3, 480, 640)\n",
      "image 1/1: 480x640 (no detections)\n",
      "Speed: 2.0ms pre-process, 17.1ms inference, 0.9ms NMS per image at shape (1, 3, 480, 640)\n",
      "image 1/1: 480x640 (no detections)\n"
     ]
    },
    {
     "name": "stdout",
     "output_type": "stream",
     "text": [
      "None\n",
      "None\n",
      "None\n",
      "None\n"
     ]
    },
    {
     "name": "stderr",
     "output_type": "stream",
     "text": [
      "Speed: 1.8ms pre-process, 17.0ms inference, 1.0ms NMS per image at shape (1, 3, 480, 640)\n",
      "image 1/1: 480x640 (no detections)\n",
      "Speed: 2.0ms pre-process, 17.0ms inference, 1.0ms NMS per image at shape (1, 3, 480, 640)\n",
      "image 1/1: 480x640 (no detections)\n",
      "Speed: 1.9ms pre-process, 17.0ms inference, 2.0ms NMS per image at shape (1, 3, 480, 640)\n",
      "image 1/1: 480x640 (no detections)\n",
      "Speed: 2.0ms pre-process, 17.0ms inference, 1.0ms NMS per image at shape (1, 3, 480, 640)\n",
      "image 1/1: 480x640 (no detections)\n"
     ]
    },
    {
     "name": "stdout",
     "output_type": "stream",
     "text": [
      "None\n",
      "None\n",
      "None\n",
      "None\n"
     ]
    },
    {
     "name": "stderr",
     "output_type": "stream",
     "text": [
      "Speed: 1.7ms pre-process, 17.0ms inference, 1.0ms NMS per image at shape (1, 3, 480, 640)\n",
      "image 1/1: 480x640 (no detections)\n",
      "Speed: 2.0ms pre-process, 17.0ms inference, 2.0ms NMS per image at shape (1, 3, 480, 640)\n",
      "image 1/1: 480x640 (no detections)\n",
      "Speed: 2.0ms pre-process, 17.0ms inference, 1.0ms NMS per image at shape (1, 3, 480, 640)\n",
      "image 1/1: 480x640 (no detections)\n",
      "Speed: 1.7ms pre-process, 18.0ms inference, 1.0ms NMS per image at shape (1, 3, 480, 640)\n",
      "image 1/1: 480x640 (no detections)\n"
     ]
    },
    {
     "name": "stdout",
     "output_type": "stream",
     "text": [
      "None\n",
      "None\n",
      "None\n",
      "None\n"
     ]
    },
    {
     "name": "stderr",
     "output_type": "stream",
     "text": [
      "Speed: 1.7ms pre-process, 17.0ms inference, 1.0ms NMS per image at shape (1, 3, 480, 640)\n",
      "image 1/1: 480x640 (no detections)\n",
      "Speed: 2.0ms pre-process, 17.0ms inference, 1.0ms NMS per image at shape (1, 3, 480, 640)\n",
      "image 1/1: 480x640 (no detections)\n",
      "Speed: 1.9ms pre-process, 18.0ms inference, 2.2ms NMS per image at shape (1, 3, 480, 640)\n",
      "image 1/1: 480x640 (no detections)\n",
      "Speed: 1.6ms pre-process, 17.0ms inference, 2.0ms NMS per image at shape (1, 3, 480, 640)\n",
      "image 1/1: 480x640 (no detections)\n"
     ]
    },
    {
     "name": "stdout",
     "output_type": "stream",
     "text": [
      "None\n",
      "None\n",
      "None\n",
      "None\n"
     ]
    },
    {
     "name": "stderr",
     "output_type": "stream",
     "text": [
      "Speed: 2.0ms pre-process, 18.0ms inference, 1.0ms NMS per image at shape (1, 3, 480, 640)\n",
      "image 1/1: 480x640 (no detections)\n",
      "Speed: 1.8ms pre-process, 17.0ms inference, 1.0ms NMS per image at shape (1, 3, 480, 640)\n",
      "image 1/1: 480x640 (no detections)\n",
      "Speed: 1.8ms pre-process, 17.0ms inference, 1.0ms NMS per image at shape (1, 3, 480, 640)\n",
      "image 1/1: 480x640 (no detections)\n",
      "Speed: 1.9ms pre-process, 17.0ms inference, 1.0ms NMS per image at shape (1, 3, 480, 640)\n",
      "image 1/1: 480x640 (no detections)\n"
     ]
    },
    {
     "name": "stdout",
     "output_type": "stream",
     "text": [
      "None\n",
      "None\n",
      "None\n",
      "None\n"
     ]
    },
    {
     "name": "stderr",
     "output_type": "stream",
     "text": [
      "Speed: 1.7ms pre-process, 17.0ms inference, 1.0ms NMS per image at shape (1, 3, 480, 640)\n",
      "image 1/1: 480x640 (no detections)\n",
      "Speed: 2.0ms pre-process, 17.0ms inference, 1.0ms NMS per image at shape (1, 3, 480, 640)\n",
      "image 1/1: 480x640 (no detections)\n",
      "Speed: 1.8ms pre-process, 17.0ms inference, 0.9ms NMS per image at shape (1, 3, 480, 640)\n",
      "image 1/1: 480x640 (no detections)\n",
      "Speed: 1.7ms pre-process, 17.0ms inference, 1.0ms NMS per image at shape (1, 3, 480, 640)\n",
      "image 1/1: 480x640 (no detections)\n"
     ]
    },
    {
     "name": "stdout",
     "output_type": "stream",
     "text": [
      "None\n",
      "None\n",
      "None\n",
      "None\n"
     ]
    },
    {
     "name": "stderr",
     "output_type": "stream",
     "text": [
      "Speed: 1.8ms pre-process, 17.0ms inference, 1.0ms NMS per image at shape (1, 3, 480, 640)\n",
      "image 1/1: 480x640 (no detections)\n",
      "Speed: 2.0ms pre-process, 17.0ms inference, 1.0ms NMS per image at shape (1, 3, 480, 640)\n",
      "image 1/1: 480x640 (no detections)\n",
      "Speed: 1.8ms pre-process, 16.9ms inference, 1.0ms NMS per image at shape (1, 3, 480, 640)\n",
      "image 1/1: 480x640 (no detections)\n",
      "Speed: 1.8ms pre-process, 18.0ms inference, 1.0ms NMS per image at shape (1, 3, 480, 640)\n",
      "image 1/1: 480x640 (no detections)\n"
     ]
    },
    {
     "name": "stdout",
     "output_type": "stream",
     "text": [
      "None\n",
      "None\n",
      "None\n",
      "None\n"
     ]
    },
    {
     "name": "stderr",
     "output_type": "stream",
     "text": [
      "Speed: 0.9ms pre-process, 18.0ms inference, 1.0ms NMS per image at shape (1, 3, 480, 640)\n",
      "image 1/1: 480x640 (no detections)\n",
      "Speed: 1.7ms pre-process, 17.0ms inference, 1.0ms NMS per image at shape (1, 3, 480, 640)\n",
      "image 1/1: 480x640 (no detections)\n",
      "Speed: 1.7ms pre-process, 17.0ms inference, 1.1ms NMS per image at shape (1, 3, 480, 640)\n",
      "image 1/1: 480x640 (no detections)\n",
      "Speed: 1.8ms pre-process, 17.0ms inference, 1.0ms NMS per image at shape (1, 3, 480, 640)\n",
      "image 1/1: 480x640 (no detections)\n"
     ]
    },
    {
     "name": "stdout",
     "output_type": "stream",
     "text": [
      "None\n",
      "None\n",
      "None\n",
      "None\n"
     ]
    },
    {
     "name": "stderr",
     "output_type": "stream",
     "text": [
      "Speed: 1.9ms pre-process, 17.0ms inference, 1.0ms NMS per image at shape (1, 3, 480, 640)\n",
      "image 1/1: 480x640 (no detections)\n",
      "Speed: 2.0ms pre-process, 17.0ms inference, 1.1ms NMS per image at shape (1, 3, 480, 640)\n",
      "image 1/1: 480x640 (no detections)\n",
      "Speed: 1.0ms pre-process, 18.0ms inference, 1.0ms NMS per image at shape (1, 3, 480, 640)\n",
      "image 1/1: 480x640 (no detections)\n",
      "Speed: 1.7ms pre-process, 17.0ms inference, 1.0ms NMS per image at shape (1, 3, 480, 640)\n",
      "image 1/1: 480x640 (no detections)\n"
     ]
    },
    {
     "name": "stdout",
     "output_type": "stream",
     "text": [
      "None\n",
      "None\n",
      "None\n",
      "None\n"
     ]
    },
    {
     "name": "stderr",
     "output_type": "stream",
     "text": [
      "Speed: 1.9ms pre-process, 17.0ms inference, 1.0ms NMS per image at shape (1, 3, 480, 640)\n",
      "image 1/1: 480x640 (no detections)\n",
      "Speed: 1.9ms pre-process, 17.0ms inference, 1.0ms NMS per image at shape (1, 3, 480, 640)\n",
      "image 1/1: 480x640 (no detections)\n",
      "Speed: 2.7ms pre-process, 17.0ms inference, 1.0ms NMS per image at shape (1, 3, 480, 640)\n",
      "image 1/1: 480x640 (no detections)\n",
      "Speed: 1.7ms pre-process, 17.0ms inference, 1.0ms NMS per image at shape (1, 3, 480, 640)\n",
      "image 1/1: 480x640 (no detections)\n"
     ]
    },
    {
     "name": "stdout",
     "output_type": "stream",
     "text": [
      "None\n",
      "None\n",
      "None\n",
      "None\n"
     ]
    },
    {
     "name": "stderr",
     "output_type": "stream",
     "text": [
      "Speed: 1.7ms pre-process, 17.0ms inference, 1.0ms NMS per image at shape (1, 3, 480, 640)\n",
      "image 1/1: 480x640 (no detections)\n",
      "Speed: 1.7ms pre-process, 17.0ms inference, 1.0ms NMS per image at shape (1, 3, 480, 640)\n",
      "image 1/1: 480x640 (no detections)\n",
      "Speed: 2.0ms pre-process, 17.0ms inference, 1.0ms NMS per image at shape (1, 3, 480, 640)\n",
      "image 1/1: 480x640 (no detections)\n",
      "Speed: 2.0ms pre-process, 17.0ms inference, 1.0ms NMS per image at shape (1, 3, 480, 640)\n",
      "image 1/1: 480x640 (no detections)\n"
     ]
    },
    {
     "name": "stdout",
     "output_type": "stream",
     "text": [
      "None\n",
      "None\n",
      "None\n",
      "None\n"
     ]
    },
    {
     "name": "stderr",
     "output_type": "stream",
     "text": [
      "Speed: 1.7ms pre-process, 18.0ms inference, 1.0ms NMS per image at shape (1, 3, 480, 640)\n",
      "image 1/1: 480x640 (no detections)\n",
      "Speed: 1.9ms pre-process, 17.0ms inference, 1.0ms NMS per image at shape (1, 3, 480, 640)\n",
      "image 1/1: 480x640 (no detections)\n",
      "Speed: 2.0ms pre-process, 17.0ms inference, 1.0ms NMS per image at shape (1, 3, 480, 640)\n",
      "image 1/1: 480x640 (no detections)\n",
      "Speed: 1.0ms pre-process, 18.0ms inference, 1.0ms NMS per image at shape (1, 3, 480, 640)\n",
      "image 1/1: 480x640 (no detections)\n"
     ]
    },
    {
     "name": "stdout",
     "output_type": "stream",
     "text": [
      "None\n",
      "None\n",
      "None\n",
      "None\n"
     ]
    },
    {
     "name": "stderr",
     "output_type": "stream",
     "text": [
      "Speed: 1.9ms pre-process, 17.0ms inference, 1.0ms NMS per image at shape (1, 3, 480, 640)\n",
      "image 1/1: 480x640 (no detections)\n",
      "Speed: 1.9ms pre-process, 18.1ms inference, 1.0ms NMS per image at shape (1, 3, 480, 640)\n",
      "image 1/1: 480x640 (no detections)\n",
      "Speed: 1.9ms pre-process, 17.0ms inference, 1.0ms NMS per image at shape (1, 3, 480, 640)\n",
      "image 1/1: 480x640 (no detections)\n",
      "Speed: 1.8ms pre-process, 17.0ms inference, 1.0ms NMS per image at shape (1, 3, 480, 640)\n",
      "image 1/1: 480x640 (no detections)\n"
     ]
    },
    {
     "name": "stdout",
     "output_type": "stream",
     "text": [
      "None\n",
      "None\n",
      "None\n",
      "None\n"
     ]
    },
    {
     "name": "stderr",
     "output_type": "stream",
     "text": [
      "Speed: 2.0ms pre-process, 18.0ms inference, 1.0ms NMS per image at shape (1, 3, 480, 640)\n",
      "image 1/1: 480x640 (no detections)\n",
      "Speed: 2.0ms pre-process, 17.0ms inference, 1.0ms NMS per image at shape (1, 3, 480, 640)\n",
      "image 1/1: 480x640 (no detections)\n",
      "Speed: 1.0ms pre-process, 18.0ms inference, 1.0ms NMS per image at shape (1, 3, 480, 640)\n",
      "image 1/1: 480x640 (no detections)\n",
      "Speed: 1.8ms pre-process, 18.0ms inference, 1.0ms NMS per image at shape (1, 3, 480, 640)\n",
      "image 1/1: 480x640 (no detections)\n"
     ]
    },
    {
     "name": "stdout",
     "output_type": "stream",
     "text": [
      "None\n",
      "None\n",
      "None\n",
      "None\n"
     ]
    },
    {
     "name": "stderr",
     "output_type": "stream",
     "text": [
      "Speed: 0.9ms pre-process, 18.0ms inference, 1.0ms NMS per image at shape (1, 3, 480, 640)\n",
      "image 1/1: 480x640 (no detections)\n",
      "Speed: 2.0ms pre-process, 17.0ms inference, 1.1ms NMS per image at shape (1, 3, 480, 640)\n",
      "image 1/1: 480x640 (no detections)\n",
      "Speed: 3.4ms pre-process, 17.6ms inference, 1.0ms NMS per image at shape (1, 3, 480, 640)\n",
      "image 1/1: 480x640 (no detections)\n",
      "Speed: 1.7ms pre-process, 18.0ms inference, 1.0ms NMS per image at shape (1, 3, 480, 640)\n",
      "image 1/1: 480x640 (no detections)\n"
     ]
    },
    {
     "name": "stdout",
     "output_type": "stream",
     "text": [
      "None\n",
      "None\n",
      "None\n",
      "None\n"
     ]
    },
    {
     "name": "stderr",
     "output_type": "stream",
     "text": [
      "Speed: 1.8ms pre-process, 17.0ms inference, 1.0ms NMS per image at shape (1, 3, 480, 640)\n",
      "image 1/1: 480x640 (no detections)\n",
      "Speed: 2.0ms pre-process, 17.0ms inference, 1.0ms NMS per image at shape (1, 3, 480, 640)\n",
      "image 1/1: 480x640 (no detections)\n",
      "Speed: 2.0ms pre-process, 17.0ms inference, 1.0ms NMS per image at shape (1, 3, 480, 640)\n",
      "image 1/1: 480x640 (no detections)\n",
      "Speed: 1.8ms pre-process, 17.0ms inference, 1.0ms NMS per image at shape (1, 3, 480, 640)\n"
     ]
    },
    {
     "name": "stdout",
     "output_type": "stream",
     "text": [
      "None\n",
      "None\n",
      "None\n",
      "None\n"
     ]
    },
    {
     "name": "stderr",
     "output_type": "stream",
     "text": [
      "image 1/1: 480x640 (no detections)\n",
      "Speed: 2.7ms pre-process, 17.0ms inference, 0.9ms NMS per image at shape (1, 3, 480, 640)\n",
      "image 1/1: 480x640 (no detections)\n",
      "Speed: 1.7ms pre-process, 17.0ms inference, 1.0ms NMS per image at shape (1, 3, 480, 640)\n",
      "image 1/1: 480x640 (no detections)\n",
      "Speed: 1.8ms pre-process, 17.0ms inference, 1.0ms NMS per image at shape (1, 3, 480, 640)\n",
      "image 1/1: 480x640 (no detections)\n",
      "Speed: 0.9ms pre-process, 18.0ms inference, 1.0ms NMS per image at shape (1, 3, 480, 640)\n",
      "image 1/1: 480x640 (no detections)\n"
     ]
    },
    {
     "name": "stdout",
     "output_type": "stream",
     "text": [
      "None\n",
      "None\n",
      "None\n",
      "None\n"
     ]
    },
    {
     "name": "stderr",
     "output_type": "stream",
     "text": [
      "Speed: 2.0ms pre-process, 17.1ms inference, 0.9ms NMS per image at shape (1, 3, 480, 640)\n",
      "image 1/1: 480x640 (no detections)\n",
      "Speed: 2.0ms pre-process, 17.0ms inference, 1.0ms NMS per image at shape (1, 3, 480, 640)\n",
      "image 1/1: 480x640 (no detections)\n",
      "Speed: 2.0ms pre-process, 17.0ms inference, 1.0ms NMS per image at shape (1, 3, 480, 640)\n",
      "image 1/1: 480x640 (no detections)\n",
      "Speed: 1.7ms pre-process, 17.0ms inference, 1.0ms NMS per image at shape (1, 3, 480, 640)\n",
      "image 1/1: 480x640 (no detections)\n"
     ]
    },
    {
     "name": "stdout",
     "output_type": "stream",
     "text": [
      "None\n",
      "None\n",
      "None\n",
      "None\n"
     ]
    },
    {
     "name": "stderr",
     "output_type": "stream",
     "text": [
      "Speed: 1.7ms pre-process, 17.0ms inference, 1.0ms NMS per image at shape (1, 3, 480, 640)\n",
      "image 1/1: 480x640 (no detections)\n",
      "Speed: 2.0ms pre-process, 17.0ms inference, 2.0ms NMS per image at shape (1, 3, 480, 640)\n",
      "image 1/1: 480x640 (no detections)\n",
      "Speed: 1.0ms pre-process, 18.0ms inference, 1.0ms NMS per image at shape (1, 3, 480, 640)\n",
      "image 1/1: 480x640 (no detections)\n",
      "Speed: 3.0ms pre-process, 19.0ms inference, 1.0ms NMS per image at shape (1, 3, 480, 640)\n",
      "image 1/1: 480x640 (no detections)\n"
     ]
    },
    {
     "name": "stdout",
     "output_type": "stream",
     "text": [
      "None\n",
      "None\n",
      "None\n",
      "None\n"
     ]
    },
    {
     "name": "stderr",
     "output_type": "stream",
     "text": [
      "Speed: 1.8ms pre-process, 17.0ms inference, 1.0ms NMS per image at shape (1, 3, 480, 640)\n",
      "image 1/1: 480x640 (no detections)\n",
      "Speed: 1.8ms pre-process, 17.0ms inference, 1.0ms NMS per image at shape (1, 3, 480, 640)\n",
      "image 1/1: 480x640 (no detections)\n",
      "Speed: 1.7ms pre-process, 17.0ms inference, 2.0ms NMS per image at shape (1, 3, 480, 640)\n",
      "image 1/1: 480x640 (no detections)\n",
      "Speed: 1.0ms pre-process, 18.0ms inference, 1.0ms NMS per image at shape (1, 3, 480, 640)\n",
      "image 1/1: 480x640 (no detections)\n"
     ]
    },
    {
     "name": "stdout",
     "output_type": "stream",
     "text": [
      "None\n",
      "None\n",
      "None\n",
      "None\n"
     ]
    },
    {
     "name": "stderr",
     "output_type": "stream",
     "text": [
      "Speed: 1.7ms pre-process, 18.0ms inference, 1.0ms NMS per image at shape (1, 3, 480, 640)\n",
      "image 1/1: 480x640 (no detections)\n",
      "Speed: 1.8ms pre-process, 17.1ms inference, 0.9ms NMS per image at shape (1, 3, 480, 640)\n",
      "image 1/1: 480x640 (no detections)\n",
      "Speed: 1.7ms pre-process, 17.0ms inference, 1.0ms NMS per image at shape (1, 3, 480, 640)\n",
      "image 1/1: 480x640 (no detections)\n",
      "Speed: 1.8ms pre-process, 17.0ms inference, 1.0ms NMS per image at shape (1, 3, 480, 640)\n",
      "image 1/1: 480x640 (no detections)\n"
     ]
    },
    {
     "name": "stdout",
     "output_type": "stream",
     "text": [
      "None\n",
      "None\n",
      "None\n",
      "None\n"
     ]
    },
    {
     "name": "stderr",
     "output_type": "stream",
     "text": [
      "Speed: 1.7ms pre-process, 17.0ms inference, 1.0ms NMS per image at shape (1, 3, 480, 640)\n",
      "image 1/1: 480x640 (no detections)\n",
      "Speed: 2.0ms pre-process, 17.0ms inference, 1.0ms NMS per image at shape (1, 3, 480, 640)\n",
      "image 1/1: 480x640 (no detections)\n",
      "Speed: 2.0ms pre-process, 17.0ms inference, 1.0ms NMS per image at shape (1, 3, 480, 640)\n",
      "image 1/1: 480x640 (no detections)\n",
      "Speed: 0.8ms pre-process, 18.0ms inference, 1.0ms NMS per image at shape (1, 3, 480, 640)\n",
      "image 1/1: 480x640 (no detections)\n"
     ]
    },
    {
     "name": "stdout",
     "output_type": "stream",
     "text": [
      "None\n",
      "None\n",
      "None\n",
      "None\n"
     ]
    },
    {
     "name": "stderr",
     "output_type": "stream",
     "text": [
      "Speed: 1.8ms pre-process, 17.0ms inference, 1.0ms NMS per image at shape (1, 3, 480, 640)\n",
      "image 1/1: 480x640 (no detections)\n",
      "Speed: 2.0ms pre-process, 17.0ms inference, 1.0ms NMS per image at shape (1, 3, 480, 640)\n",
      "image 1/1: 480x640 (no detections)\n",
      "Speed: 2.0ms pre-process, 17.0ms inference, 2.0ms NMS per image at shape (1, 3, 480, 640)\n",
      "image 1/1: 480x640 (no detections)\n",
      "Speed: 1.8ms pre-process, 18.0ms inference, 1.0ms NMS per image at shape (1, 3, 480, 640)\n",
      "image 1/1: 480x640 (no detections)\n"
     ]
    },
    {
     "name": "stdout",
     "output_type": "stream",
     "text": [
      "None\n",
      "None\n",
      "None\n",
      "None\n"
     ]
    },
    {
     "name": "stderr",
     "output_type": "stream",
     "text": [
      "Speed: 1.8ms pre-process, 17.0ms inference, 1.0ms NMS per image at shape (1, 3, 480, 640)\n",
      "image 1/1: 480x640 (no detections)\n",
      "Speed: 1.9ms pre-process, 17.0ms inference, 1.0ms NMS per image at shape (1, 3, 480, 640)\n",
      "image 1/1: 480x640 (no detections)\n",
      "Speed: 1.7ms pre-process, 17.0ms inference, 1.0ms NMS per image at shape (1, 3, 480, 640)\n",
      "image 1/1: 480x640 (no detections)\n",
      "Speed: 1.7ms pre-process, 17.0ms inference, 1.0ms NMS per image at shape (1, 3, 480, 640)\n",
      "image 1/1: 480x640 (no detections)\n"
     ]
    },
    {
     "name": "stdout",
     "output_type": "stream",
     "text": [
      "None\n",
      "None\n",
      "None\n",
      "None\n"
     ]
    },
    {
     "name": "stderr",
     "output_type": "stream",
     "text": [
      "Speed: 1.9ms pre-process, 18.0ms inference, 1.0ms NMS per image at shape (1, 3, 480, 640)\n",
      "image 1/1: 480x640 (no detections)\n",
      "Speed: 0.9ms pre-process, 18.0ms inference, 1.0ms NMS per image at shape (1, 3, 480, 640)\n",
      "image 1/1: 480x640 (no detections)\n",
      "Speed: 1.8ms pre-process, 17.1ms inference, 1.0ms NMS per image at shape (1, 3, 480, 640)\n",
      "image 1/1: 480x640 (no detections)\n",
      "Speed: 1.7ms pre-process, 19.0ms inference, 1.0ms NMS per image at shape (1, 3, 480, 640)\n",
      "image 1/1: 480x640 (no detections)\n"
     ]
    },
    {
     "name": "stdout",
     "output_type": "stream",
     "text": [
      "None\n",
      "None\n",
      "None\n",
      "None\n"
     ]
    },
    {
     "name": "stderr",
     "output_type": "stream",
     "text": [
      "Speed: 2.0ms pre-process, 17.0ms inference, 1.0ms NMS per image at shape (1, 3, 480, 640)\n",
      "image 1/1: 480x640 (no detections)\n",
      "Speed: 1.0ms pre-process, 20.0ms inference, 1.0ms NMS per image at shape (1, 3, 480, 640)\n",
      "image 1/1: 480x640 (no detections)\n",
      "Speed: 3.0ms pre-process, 17.0ms inference, 2.0ms NMS per image at shape (1, 3, 480, 640)\n",
      "image 1/1: 480x640 (no detections)\n",
      "Speed: 1.0ms pre-process, 18.0ms inference, 1.0ms NMS per image at shape (1, 3, 480, 640)\n",
      "image 1/1: 480x640 (no detections)\n"
     ]
    },
    {
     "name": "stdout",
     "output_type": "stream",
     "text": [
      "None\n",
      "None\n",
      "None\n",
      "None\n"
     ]
    },
    {
     "name": "stderr",
     "output_type": "stream",
     "text": [
      "Speed: 2.0ms pre-process, 17.0ms inference, 1.0ms NMS per image at shape (1, 3, 480, 640)\n",
      "image 1/1: 480x640 (no detections)\n",
      "Speed: 2.0ms pre-process, 18.0ms inference, 1.0ms NMS per image at shape (1, 3, 480, 640)\n",
      "image 1/1: 480x640 (no detections)\n",
      "Speed: 2.0ms pre-process, 17.0ms inference, 1.0ms NMS per image at shape (1, 3, 480, 640)\n",
      "image 1/1: 480x640 (no detections)\n",
      "Speed: 2.0ms pre-process, 18.0ms inference, 1.0ms NMS per image at shape (1, 3, 480, 640)\n",
      "image 1/1: 480x640 (no detections)\n"
     ]
    },
    {
     "name": "stdout",
     "output_type": "stream",
     "text": [
      "None\n",
      "None\n",
      "None\n",
      "None\n"
     ]
    },
    {
     "name": "stderr",
     "output_type": "stream",
     "text": [
      "Speed: 2.0ms pre-process, 18.0ms inference, 1.0ms NMS per image at shape (1, 3, 480, 640)\n",
      "image 1/1: 480x640 (no detections)\n",
      "Speed: 3.0ms pre-process, 17.0ms inference, 1.0ms NMS per image at shape (1, 3, 480, 640)\n",
      "image 1/1: 480x640 (no detections)\n",
      "Speed: 1.9ms pre-process, 17.0ms inference, 1.0ms NMS per image at shape (1, 3, 480, 640)\n",
      "image 1/1: 480x640 (no detections)\n",
      "Speed: 1.7ms pre-process, 17.0ms inference, 1.0ms NMS per image at shape (1, 3, 480, 640)\n",
      "image 1/1: 480x640 (no detections)\n"
     ]
    },
    {
     "name": "stdout",
     "output_type": "stream",
     "text": [
      "None\n",
      "None\n",
      "None\n",
      "None\n"
     ]
    },
    {
     "name": "stderr",
     "output_type": "stream",
     "text": [
      "Speed: 1.7ms pre-process, 17.0ms inference, 1.0ms NMS per image at shape (1, 3, 480, 640)\n",
      "image 1/1: 480x640 (no detections)\n",
      "Speed: 3.0ms pre-process, 17.0ms inference, 1.0ms NMS per image at shape (1, 3, 480, 640)\n",
      "image 1/1: 480x640 (no detections)\n",
      "Speed: 2.0ms pre-process, 17.0ms inference, 1.0ms NMS per image at shape (1, 3, 480, 640)\n",
      "image 1/1: 480x640 (no detections)\n",
      "Speed: 1.8ms pre-process, 18.0ms inference, 1.0ms NMS per image at shape (1, 3, 480, 640)\n",
      "image 1/1: 480x640 (no detections)\n"
     ]
    },
    {
     "name": "stdout",
     "output_type": "stream",
     "text": [
      "None\n",
      "None\n",
      "None\n",
      "None\n"
     ]
    },
    {
     "name": "stderr",
     "output_type": "stream",
     "text": [
      "Speed: 1.7ms pre-process, 17.0ms inference, 1.1ms NMS per image at shape (1, 3, 480, 640)\n",
      "image 1/1: 480x640 (no detections)\n",
      "Speed: 1.8ms pre-process, 17.0ms inference, 1.0ms NMS per image at shape (1, 3, 480, 640)\n",
      "image 1/1: 480x640 (no detections)\n",
      "Speed: 1.8ms pre-process, 17.1ms inference, 0.9ms NMS per image at shape (1, 3, 480, 640)\n",
      "image 1/1: 480x640 (no detections)\n",
      "Speed: 2.0ms pre-process, 18.0ms inference, 1.0ms NMS per image at shape (1, 3, 480, 640)\n",
      "image 1/1: 480x640 (no detections)\n"
     ]
    },
    {
     "name": "stdout",
     "output_type": "stream",
     "text": [
      "None\n",
      "None\n",
      "None\n",
      "None\n"
     ]
    },
    {
     "name": "stderr",
     "output_type": "stream",
     "text": [
      "Speed: 1.8ms pre-process, 17.0ms inference, 1.0ms NMS per image at shape (1, 3, 480, 640)\n",
      "image 1/1: 480x640 (no detections)\n",
      "Speed: 1.8ms pre-process, 18.0ms inference, 1.0ms NMS per image at shape (1, 3, 480, 640)\n",
      "image 1/1: 480x640 (no detections)\n",
      "Speed: 1.7ms pre-process, 17.0ms inference, 1.0ms NMS per image at shape (1, 3, 480, 640)\n",
      "image 1/1: 480x640 (no detections)\n",
      "Speed: 1.0ms pre-process, 18.0ms inference, 1.0ms NMS per image at shape (1, 3, 480, 640)\n",
      "image 1/1: 480x640 (no detections)\n"
     ]
    },
    {
     "name": "stdout",
     "output_type": "stream",
     "text": [
      "None\n",
      "None\n",
      "None\n",
      "None\n"
     ]
    },
    {
     "name": "stderr",
     "output_type": "stream",
     "text": [
      "Speed: 1.7ms pre-process, 17.0ms inference, 1.0ms NMS per image at shape (1, 3, 480, 640)\n",
      "image 1/1: 480x640 (no detections)\n",
      "Speed: 2.0ms pre-process, 17.0ms inference, 1.0ms NMS per image at shape (1, 3, 480, 640)\n",
      "image 1/1: 480x640 (no detections)\n",
      "Speed: 2.0ms pre-process, 17.0ms inference, 1.0ms NMS per image at shape (1, 3, 480, 640)\n",
      "image 1/1: 480x640 (no detections)\n",
      "Speed: 1.8ms pre-process, 18.0ms inference, 1.0ms NMS per image at shape (1, 3, 480, 640)\n",
      "image 1/1: 480x640 (no detections)\n"
     ]
    },
    {
     "name": "stdout",
     "output_type": "stream",
     "text": [
      "None\n",
      "None\n",
      "None\n",
      "None\n"
     ]
    },
    {
     "name": "stderr",
     "output_type": "stream",
     "text": [
      "Speed: 1.0ms pre-process, 18.0ms inference, 1.0ms NMS per image at shape (1, 3, 480, 640)\n",
      "image 1/1: 480x640 (no detections)\n",
      "Speed: 1.7ms pre-process, 17.0ms inference, 1.0ms NMS per image at shape (1, 3, 480, 640)\n",
      "image 1/1: 480x640 (no detections)\n",
      "Speed: 2.0ms pre-process, 17.0ms inference, 1.0ms NMS per image at shape (1, 3, 480, 640)\n",
      "image 1/1: 480x640 (no detections)\n",
      "Speed: 1.9ms pre-process, 18.0ms inference, 1.0ms NMS per image at shape (1, 3, 480, 640)\n",
      "image 1/1: 480x640 (no detections)\n"
     ]
    },
    {
     "name": "stdout",
     "output_type": "stream",
     "text": [
      "None\n",
      "None\n",
      "None\n",
      "None\n"
     ]
    },
    {
     "name": "stderr",
     "output_type": "stream",
     "text": [
      "Speed: 2.0ms pre-process, 17.0ms inference, 2.0ms NMS per image at shape (1, 3, 480, 640)\n",
      "image 1/1: 480x640 (no detections)\n",
      "Speed: 2.0ms pre-process, 17.0ms inference, 1.0ms NMS per image at shape (1, 3, 480, 640)\n",
      "image 1/1: 480x640 (no detections)\n",
      "Speed: 1.0ms pre-process, 18.0ms inference, 1.0ms NMS per image at shape (1, 3, 480, 640)\n",
      "image 1/1: 480x640 (no detections)\n",
      "Speed: 1.7ms pre-process, 17.0ms inference, 1.0ms NMS per image at shape (1, 3, 480, 640)\n",
      "image 1/1: 480x640 (no detections)\n"
     ]
    },
    {
     "name": "stdout",
     "output_type": "stream",
     "text": [
      "None\n",
      "None\n",
      "None\n",
      "None\n"
     ]
    },
    {
     "name": "stderr",
     "output_type": "stream",
     "text": [
      "Speed: 2.0ms pre-process, 17.0ms inference, 1.0ms NMS per image at shape (1, 3, 480, 640)\n",
      "image 1/1: 480x640 (no detections)\n",
      "Speed: 2.0ms pre-process, 17.0ms inference, 0.9ms NMS per image at shape (1, 3, 480, 640)\n",
      "image 1/1: 480x640 (no detections)\n",
      "Speed: 1.8ms pre-process, 17.1ms inference, 1.0ms NMS per image at shape (1, 3, 480, 640)\n",
      "image 1/1: 480x640 (no detections)\n",
      "Speed: 1.8ms pre-process, 18.0ms inference, 1.0ms NMS per image at shape (1, 3, 480, 640)\n",
      "image 1/1: 480x640 (no detections)\n"
     ]
    },
    {
     "name": "stdout",
     "output_type": "stream",
     "text": [
      "None\n",
      "None\n",
      "None\n",
      "None\n"
     ]
    },
    {
     "name": "stderr",
     "output_type": "stream",
     "text": [
      "Speed: 2.0ms pre-process, 17.0ms inference, 1.0ms NMS per image at shape (1, 3, 480, 640)\n",
      "image 1/1: 480x640 (no detections)\n",
      "Speed: 2.0ms pre-process, 17.0ms inference, 1.0ms NMS per image at shape (1, 3, 480, 640)\n",
      "image 1/1: 480x640 (no detections)\n",
      "Speed: 1.7ms pre-process, 17.0ms inference, 1.0ms NMS per image at shape (1, 3, 480, 640)\n",
      "image 1/1: 480x640 (no detections)\n",
      "Speed: 2.0ms pre-process, 17.0ms inference, 0.9ms NMS per image at shape (1, 3, 480, 640)\n",
      "image 1/1: 480x640 (no detections)\n"
     ]
    },
    {
     "name": "stdout",
     "output_type": "stream",
     "text": [
      "None\n",
      "None\n",
      "None\n",
      "None\n"
     ]
    },
    {
     "name": "stderr",
     "output_type": "stream",
     "text": [
      "Speed: 3.7ms pre-process, 17.0ms inference, 1.0ms NMS per image at shape (1, 3, 480, 640)\n",
      "image 1/1: 480x640 (no detections)\n",
      "Speed: 2.0ms pre-process, 17.0ms inference, 1.0ms NMS per image at shape (1, 3, 480, 640)\n",
      "image 1/1: 480x640 (no detections)\n",
      "Speed: 1.8ms pre-process, 17.0ms inference, 0.9ms NMS per image at shape (1, 3, 480, 640)\n",
      "image 1/1: 480x640 (no detections)\n",
      "Speed: 2.0ms pre-process, 17.0ms inference, 1.0ms NMS per image at shape (1, 3, 480, 640)\n",
      "image 1/1: 480x640 (no detections)\n"
     ]
    },
    {
     "name": "stdout",
     "output_type": "stream",
     "text": [
      "None\n",
      "None\n",
      "None\n",
      "None\n"
     ]
    },
    {
     "name": "stderr",
     "output_type": "stream",
     "text": [
      "Speed: 2.0ms pre-process, 17.0ms inference, 1.0ms NMS per image at shape (1, 3, 480, 640)\n",
      "image 1/1: 480x640 (no detections)\n",
      "Speed: 2.7ms pre-process, 17.0ms inference, 1.0ms NMS per image at shape (1, 3, 480, 640)\n",
      "image 1/1: 480x640 (no detections)\n",
      "Speed: 1.9ms pre-process, 17.0ms inference, 1.0ms NMS per image at shape (1, 3, 480, 640)\n",
      "image 1/1: 480x640 (no detections)\n",
      "Speed: 2.0ms pre-process, 17.0ms inference, 1.0ms NMS per image at shape (1, 3, 480, 640)\n",
      "image 1/1: 480x640 (no detections)\n"
     ]
    },
    {
     "name": "stdout",
     "output_type": "stream",
     "text": [
      "None\n",
      "None\n",
      "None\n",
      "None\n"
     ]
    },
    {
     "name": "stderr",
     "output_type": "stream",
     "text": [
      "Speed: 1.8ms pre-process, 17.0ms inference, 1.0ms NMS per image at shape (1, 3, 480, 640)\n",
      "image 1/1: 480x640 (no detections)\n",
      "Speed: 2.0ms pre-process, 17.0ms inference, 1.0ms NMS per image at shape (1, 3, 480, 640)\n",
      "image 1/1: 480x640 (no detections)\n",
      "Speed: 2.0ms pre-process, 18.0ms inference, 1.0ms NMS per image at shape (1, 3, 480, 640)\n",
      "image 1/1: 480x640 (no detections)\n",
      "Speed: 1.8ms pre-process, 17.9ms inference, 1.0ms NMS per image at shape (1, 3, 480, 640)\n",
      "image 1/1: 480x640 (no detections)\n"
     ]
    },
    {
     "name": "stdout",
     "output_type": "stream",
     "text": [
      "None\n",
      "None\n",
      "None\n",
      "None\n"
     ]
    },
    {
     "name": "stderr",
     "output_type": "stream",
     "text": [
      "Speed: 0.9ms pre-process, 18.0ms inference, 1.0ms NMS per image at shape (1, 3, 480, 640)\n",
      "image 1/1: 480x640 (no detections)\n",
      "Speed: 1.0ms pre-process, 18.0ms inference, 1.0ms NMS per image at shape (1, 3, 480, 640)\n",
      "image 1/1: 480x640 (no detections)\n",
      "Speed: 1.7ms pre-process, 17.0ms inference, 1.0ms NMS per image at shape (1, 3, 480, 640)\n",
      "image 1/1: 480x640 (no detections)\n",
      "Speed: 2.0ms pre-process, 17.0ms inference, 2.0ms NMS per image at shape (1, 3, 480, 640)\n",
      "image 1/1: 480x640 (no detections)\n"
     ]
    },
    {
     "name": "stdout",
     "output_type": "stream",
     "text": [
      "None\n",
      "None\n",
      "None\n",
      "None\n"
     ]
    },
    {
     "name": "stderr",
     "output_type": "stream",
     "text": [
      "Speed: 2.0ms pre-process, 17.0ms inference, 1.0ms NMS per image at shape (1, 3, 480, 640)\n",
      "image 1/1: 480x640 (no detections)\n",
      "Speed: 1.7ms pre-process, 17.0ms inference, 2.0ms NMS per image at shape (1, 3, 480, 640)\n",
      "image 1/1: 480x640 (no detections)\n",
      "Speed: 1.9ms pre-process, 17.0ms inference, 1.0ms NMS per image at shape (1, 3, 480, 640)\n",
      "image 1/1: 480x640 (no detections)\n",
      "Speed: 3.7ms pre-process, 17.0ms inference, 1.0ms NMS per image at shape (1, 3, 480, 640)\n",
      "image 1/1: 480x640 (no detections)\n"
     ]
    },
    {
     "name": "stdout",
     "output_type": "stream",
     "text": [
      "None\n",
      "None\n",
      "None\n",
      "None\n"
     ]
    },
    {
     "name": "stderr",
     "output_type": "stream",
     "text": [
      "Speed: 2.0ms pre-process, 17.0ms inference, 1.0ms NMS per image at shape (1, 3, 480, 640)\n",
      "image 1/1: 480x640 (no detections)\n",
      "Speed: 1.8ms pre-process, 19.0ms inference, 1.0ms NMS per image at shape (1, 3, 480, 640)\n",
      "image 1/1: 480x640 (no detections)\n",
      "Speed: 2.7ms pre-process, 17.0ms inference, 1.0ms NMS per image at shape (1, 3, 480, 640)\n",
      "image 1/1: 480x640 (no detections)\n",
      "Speed: 1.0ms pre-process, 18.0ms inference, 1.0ms NMS per image at shape (1, 3, 480, 640)\n",
      "image 1/1: 480x640 (no detections)\n"
     ]
    },
    {
     "name": "stdout",
     "output_type": "stream",
     "text": [
      "None\n",
      "None\n",
      "None\n",
      "None\n"
     ]
    },
    {
     "name": "stderr",
     "output_type": "stream",
     "text": [
      "Speed: 1.7ms pre-process, 18.0ms inference, 1.0ms NMS per image at shape (1, 3, 480, 640)\n",
      "image 1/1: 480x640 (no detections)\n",
      "Speed: 2.0ms pre-process, 17.0ms inference, 1.0ms NMS per image at shape (1, 3, 480, 640)\n",
      "image 1/1: 480x640 (no detections)\n",
      "Speed: 1.0ms pre-process, 18.1ms inference, 1.0ms NMS per image at shape (1, 3, 480, 640)\n",
      "image 1/1: 480x640 (no detections)\n",
      "Speed: 2.0ms pre-process, 17.0ms inference, 1.0ms NMS per image at shape (1, 3, 480, 640)\n",
      "image 1/1: 480x640 (no detections)\n"
     ]
    },
    {
     "name": "stdout",
     "output_type": "stream",
     "text": [
      "None\n",
      "None\n",
      "None\n",
      "None\n"
     ]
    },
    {
     "name": "stderr",
     "output_type": "stream",
     "text": [
      "Speed: 1.8ms pre-process, 17.1ms inference, 1.0ms NMS per image at shape (1, 3, 480, 640)\n",
      "image 1/1: 480x640 (no detections)\n",
      "Speed: 1.9ms pre-process, 17.0ms inference, 1.0ms NMS per image at shape (1, 3, 480, 640)\n",
      "image 1/1: 480x640 (no detections)\n",
      "Speed: 2.0ms pre-process, 17.0ms inference, 1.0ms NMS per image at shape (1, 3, 480, 640)\n",
      "image 1/1: 480x640 (no detections)\n",
      "Speed: 1.9ms pre-process, 17.0ms inference, 1.0ms NMS per image at shape (1, 3, 480, 640)\n",
      "image 1/1: 480x640 (no detections)\n"
     ]
    },
    {
     "name": "stdout",
     "output_type": "stream",
     "text": [
      "None\n",
      "None\n",
      "None\n",
      "None\n"
     ]
    },
    {
     "name": "stderr",
     "output_type": "stream",
     "text": [
      "Speed: 1.7ms pre-process, 18.0ms inference, 1.0ms NMS per image at shape (1, 3, 480, 640)\n",
      "image 1/1: 480x640 (no detections)\n",
      "Speed: 1.7ms pre-process, 17.0ms inference, 2.0ms NMS per image at shape (1, 3, 480, 640)\n",
      "image 1/1: 480x640 (no detections)\n",
      "Speed: 1.8ms pre-process, 17.0ms inference, 1.0ms NMS per image at shape (1, 3, 480, 640)\n",
      "image 1/1: 480x640 (no detections)\n",
      "Speed: 1.0ms pre-process, 18.0ms inference, 1.0ms NMS per image at shape (1, 3, 480, 640)\n",
      "image 1/1: 480x640 (no detections)\n"
     ]
    },
    {
     "name": "stdout",
     "output_type": "stream",
     "text": [
      "None\n",
      "None\n",
      "None\n",
      "None\n"
     ]
    },
    {
     "name": "stderr",
     "output_type": "stream",
     "text": [
      "Speed: 2.0ms pre-process, 17.0ms inference, 1.0ms NMS per image at shape (1, 3, 480, 640)\n",
      "image 1/1: 480x640 (no detections)\n",
      "Speed: 2.7ms pre-process, 17.0ms inference, 1.0ms NMS per image at shape (1, 3, 480, 640)\n",
      "image 1/1: 480x640 (no detections)\n",
      "Speed: 1.8ms pre-process, 17.0ms inference, 1.0ms NMS per image at shape (1, 3, 480, 640)\n",
      "image 1/1: 480x640 (no detections)\n",
      "Speed: 0.9ms pre-process, 18.0ms inference, 1.0ms NMS per image at shape (1, 3, 480, 640)\n",
      "image 1/1: 480x640 (no detections)\n"
     ]
    },
    {
     "name": "stdout",
     "output_type": "stream",
     "text": [
      "None\n",
      "None\n",
      "None\n",
      "None\n"
     ]
    },
    {
     "name": "stderr",
     "output_type": "stream",
     "text": [
      "Speed: 2.0ms pre-process, 17.0ms inference, 1.1ms NMS per image at shape (1, 3, 480, 640)\n",
      "image 1/1: 480x640 (no detections)\n",
      "Speed: 2.0ms pre-process, 17.0ms inference, 1.0ms NMS per image at shape (1, 3, 480, 640)\n",
      "image 1/1: 480x640 (no detections)\n",
      "Speed: 2.7ms pre-process, 19.0ms inference, 1.0ms NMS per image at shape (1, 3, 480, 640)\n",
      "image 1/1: 480x640 (no detections)\n",
      "Speed: 2.0ms pre-process, 17.0ms inference, 1.0ms NMS per image at shape (1, 3, 480, 640)\n",
      "image 1/1: 480x640 (no detections)\n"
     ]
    },
    {
     "name": "stdout",
     "output_type": "stream",
     "text": [
      "None\n",
      "None\n",
      "None\n",
      "None\n"
     ]
    },
    {
     "name": "stderr",
     "output_type": "stream",
     "text": [
      "Speed: 2.0ms pre-process, 17.0ms inference, 1.0ms NMS per image at shape (1, 3, 480, 640)\n",
      "image 1/1: 480x640 (no detections)\n",
      "Speed: 1.7ms pre-process, 17.0ms inference, 1.0ms NMS per image at shape (1, 3, 480, 640)\n",
      "image 1/1: 480x640 (no detections)\n",
      "Speed: 2.0ms pre-process, 17.0ms inference, 1.0ms NMS per image at shape (1, 3, 480, 640)\n",
      "image 1/1: 480x640 (no detections)\n",
      "Speed: 1.0ms pre-process, 18.0ms inference, 1.0ms NMS per image at shape (1, 3, 480, 640)\n",
      "image 1/1: 480x640 (no detections)\n"
     ]
    },
    {
     "name": "stdout",
     "output_type": "stream",
     "text": [
      "None\n",
      "None\n",
      "None\n",
      "None\n"
     ]
    },
    {
     "name": "stderr",
     "output_type": "stream",
     "text": [
      "Speed: 1.0ms pre-process, 18.0ms inference, 1.0ms NMS per image at shape (1, 3, 480, 640)\n",
      "image 1/1: 480x640 (no detections)\n",
      "Speed: 1.8ms pre-process, 17.0ms inference, 1.0ms NMS per image at shape (1, 3, 480, 640)\n",
      "image 1/1: 480x640 (no detections)\n",
      "Speed: 1.8ms pre-process, 17.0ms inference, 1.0ms NMS per image at shape (1, 3, 480, 640)\n",
      "image 1/1: 480x640 (no detections)\n",
      "Speed: 2.0ms pre-process, 17.0ms inference, 0.9ms NMS per image at shape (1, 3, 480, 640)\n",
      "image 1/1: 480x640 (no detections)\n"
     ]
    },
    {
     "name": "stdout",
     "output_type": "stream",
     "text": [
      "None\n",
      "None\n",
      "None\n",
      "None\n"
     ]
    },
    {
     "name": "stderr",
     "output_type": "stream",
     "text": [
      "Speed: 1.8ms pre-process, 18.0ms inference, 1.0ms NMS per image at shape (1, 3, 480, 640)\n",
      "image 1/1: 480x640 (no detections)\n",
      "Speed: 1.8ms pre-process, 17.0ms inference, 1.0ms NMS per image at shape (1, 3, 480, 640)\n",
      "image 1/1: 480x640 (no detections)\n",
      "Speed: 0.8ms pre-process, 18.0ms inference, 1.0ms NMS per image at shape (1, 3, 480, 640)\n",
      "image 1/1: 480x640 (no detections)\n",
      "Speed: 2.0ms pre-process, 17.0ms inference, 1.0ms NMS per image at shape (1, 3, 480, 640)\n"
     ]
    },
    {
     "name": "stdout",
     "output_type": "stream",
     "text": [
      "None\n",
      "None\n",
      "None\n",
      "None\n"
     ]
    },
    {
     "name": "stderr",
     "output_type": "stream",
     "text": [
      "image 1/1: 480x640 (no detections)\n",
      "Speed: 2.0ms pre-process, 17.0ms inference, 2.0ms NMS per image at shape (1, 3, 480, 640)\n",
      "image 1/1: 480x640 (no detections)\n",
      "Speed: 1.7ms pre-process, 18.0ms inference, 1.0ms NMS per image at shape (1, 3, 480, 640)\n",
      "image 1/1: 480x640 (no detections)\n",
      "Speed: 1.7ms pre-process, 17.0ms inference, 1.0ms NMS per image at shape (1, 3, 480, 640)\n",
      "image 1/1: 480x640 (no detections)\n",
      "Speed: 2.0ms pre-process, 17.0ms inference, 1.0ms NMS per image at shape (1, 3, 480, 640)\n",
      "image 1/1: 480x640 (no detections)\n"
     ]
    },
    {
     "name": "stdout",
     "output_type": "stream",
     "text": [
      "None\n",
      "None\n",
      "None\n",
      "None\n"
     ]
    },
    {
     "name": "stderr",
     "output_type": "stream",
     "text": [
      "Speed: 1.0ms pre-process, 18.0ms inference, 1.0ms NMS per image at shape (1, 3, 480, 640)\n",
      "image 1/1: 480x640 (no detections)\n",
      "Speed: 1.0ms pre-process, 18.0ms inference, 1.0ms NMS per image at shape (1, 3, 480, 640)\n",
      "image 1/1: 480x640 (no detections)\n",
      "Speed: 1.7ms pre-process, 20.0ms inference, 1.0ms NMS per image at shape (1, 3, 480, 640)\n"
     ]
    },
    {
     "name": "stdout",
     "output_type": "stream",
     "text": [
      "None\n",
      "None\n",
      "None\n"
     ]
    }
   ],
   "source": [
    "cap = cv2.VideoCapture(0)\n",
    "while cap.isOpened():\n",
    "    ret, frame = cap.read()\n",
    "    \n",
    "    # Make detections \n",
    "    results = model(frame)\n",
    "    print(results.print())\n",
    "    cv2.imshow('YOLO', np.squeeze(results.render()))\n",
    "    \n",
    "    if cv2.waitKey(10) & 0xFF == ord('q'):\n",
    "        break\n",
    "cap.release()\n",
    "cv2.destroyAllWindows()"
   ]
  },
  {
   "cell_type": "code",
   "execution_count": null,
   "metadata": {},
   "outputs": [],
   "source": []
  }
 ],
 "metadata": {
  "kernelspec": {
   "display_name": "Python 3",
   "language": "python",
   "name": "python3"
  },
  "language_info": {
   "codemirror_mode": {
    "name": "ipython",
    "version": 3
   },
   "file_extension": ".py",
   "mimetype": "text/x-python",
   "name": "python",
   "nbconvert_exporter": "python",
   "pygments_lexer": "ipython3",
   "version": "3.7.6"
  }
 },
 "nbformat": 4,
 "nbformat_minor": 2
}
